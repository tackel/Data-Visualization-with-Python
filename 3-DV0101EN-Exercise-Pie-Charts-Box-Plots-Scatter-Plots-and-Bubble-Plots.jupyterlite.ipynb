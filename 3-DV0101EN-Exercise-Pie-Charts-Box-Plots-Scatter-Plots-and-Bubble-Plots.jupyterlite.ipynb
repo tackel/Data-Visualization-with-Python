{
  "cells": [
    {
      "cell_type": "markdown",
      "metadata": {
        "button": false,
        "new_sheet": false,
        "run_control": {
          "read_only": false
        }
      },
      "source": [
        "<center>\n",
        "    <img src=\"https://cf-courses-data.s3.us.cloud-object-storage.appdomain.cloud/IBMDeveloperSkillsNetwork-DV0101EN-SkillsNetwork/labs/Module%203/images/IDSNlogo.png\" width=\"300\" alt=\"cognitiveclass.ai logo\"  />\n",
        "</center>\n",
        "\n",
        "# Pie Charts, Box Plots, Scatter Plots, and Bubble Plots\n",
        "\n",
        "Estimated time needed: **30** minutes\n",
        "\n",
        "## Objectives\n",
        "\n",
        "After completing this lab you will be able to:\n",
        "\n",
        "*   Explore Matplotlib library further\n",
        "*   Create pie charts, box plots, scatter plots and bubble charts\n"
      ]
    },
    {
      "cell_type": "markdown",
      "metadata": {
        "button": false,
        "new_sheet": false,
        "run_control": {
          "read_only": false
        }
      },
      "source": [
        "## Table of Contents\n",
        "\n",
        "<div class=\"alert alert-block alert-info\" style=\"margin-top: 20px\">\n",
        "\n",
        "1.  [Exploring Datasets with *p*andas](#0)<br>\n",
        "2.  [Downloading and Prepping Data](#2)<br>\n",
        "3.  [Visualizing Data using Matplotlib](#4) <br>\n",
        "4.  [Pie Charts](#6) <br>\n",
        "5.  [Box Plots](#8) <br>\n",
        "6.  [Scatter Plots](#10) <br>\n",
        "7.  [Bubble Plots](#12) <br>\n",
        "\n",
        "</div>\n"
      ]
    },
    {
      "cell_type": "markdown",
      "metadata": {
        "button": false,
        "new_sheet": false,
        "run_control": {
          "read_only": false
        }
      },
      "source": [
        "# Exploring Datasets with *pandas* and Matplotlib<a id=\"0\"></a>\n",
        "\n",
        "Toolkits: The course heavily relies on [*pandas*](http://pandas.pydata.org/?utm_medium=Exinfluencer&utm_source=Exinfluencer&utm_content=000026UJ&utm_term=10006555&utm_id=NA-SkillsNetwork-Channel-SkillsNetworkCoursesIBMDeveloperSkillsNetworkDV0101ENSkillsNetwork20297740-2021-01-01) and [**Numpy**](http://www.numpy.org/?utm_medium=Exinfluencer&utm_source=Exinfluencer&utm_content=000026UJ&utm_term=10006555&utm_id=NA-SkillsNetwork-Channel-SkillsNetworkCoursesIBMDeveloperSkillsNetworkDV0101ENSkillsNetwork20297740-2021-01-01) for data wrangling, analysis, and visualization. The primary plotting library we will explore in the course is [Matplotlib](http://matplotlib.org/?utm_medium=Exinfluencer&utm_source=Exinfluencer&utm_content=000026UJ&utm_term=10006555&utm_id=NA-SkillsNetwork-Channel-SkillsNetworkCoursesIBMDeveloperSkillsNetworkDV0101ENSkillsNetwork20297740-2021-01-01).\n",
        "\n",
        "Dataset: Immigration to Canada from 1980 to 2013 - [International migration flows to and from selected countries - The 2015 revision](http://www.un.org/en/development/desa/population/migration/data/empirical2/migrationflows.shtml?utm_medium=Exinfluencer&utm_source=Exinfluencer&utm_content=000026UJ&utm_term=10006555&utm_id=NA-SkillsNetwork-Channel-SkillsNetworkCoursesIBMDeveloperSkillsNetworkDV0101ENSkillsNetwork20297740-2021-01-01) from United Nation's website.\n",
        "\n",
        "The dataset contains annual data on the flows of international migrants as recorded by the countries of destination. The data presents both inflows and outflows according to the place of birth, citizenship or place of previous / next residence both for foreigners and nationals. In this lab, we will focus on the Canadian Immigration data.\n"
      ]
    },
    {
      "cell_type": "markdown",
      "metadata": {
        "button": false,
        "new_sheet": false,
        "run_control": {
          "read_only": false
        }
      },
      "source": [
        "# Downloading and Prepping Data <a id=\"2\"></a>\n"
      ]
    },
    {
      "cell_type": "markdown",
      "metadata": {},
      "source": [
        "The first thing we'll do is install **openpyxl** (formerly **xlrd**), a module that *pandas* requires to read Excel files.\n"
      ]
    },
    {
      "cell_type": "code",
      "execution_count": 6,
      "metadata": {
        "trusted": true
      },
      "outputs": [],
      "source": [
        "#import piplite\n",
        "#await piplite.install(['openpyxl==3.0.9'])"
      ]
    },
    {
      "cell_type": "markdown",
      "metadata": {
        "button": false,
        "new_sheet": false,
        "run_control": {
          "read_only": false
        }
      },
      "source": [
        "Import primary modules.\n"
      ]
    },
    {
      "cell_type": "code",
      "execution_count": 2,
      "metadata": {
        "button": false,
        "collapsed": false,
        "jupyter": {
          "outputs_hidden": false
        },
        "new_sheet": false,
        "run_control": {
          "read_only": false
        },
        "trusted": true
      },
      "outputs": [],
      "source": [
        "import numpy as np  # useful for many scientific computing in Python\n",
        "import pandas as pd # primary data structure library"
      ]
    },
    {
      "cell_type": "markdown",
      "metadata": {
        "button": false,
        "new_sheet": false,
        "run_control": {
          "read_only": false
        }
      },
      "source": [
        "Download the Canadian Immigration dataset and read it into a *pandas* dataframe.\n"
      ]
    },
    {
      "cell_type": "code",
      "execution_count": 3,
      "metadata": {
        "button": false,
        "collapsed": false,
        "jupyter": {
          "outputs_hidden": false
        },
        "new_sheet": false,
        "run_control": {
          "read_only": false
        },
        "trusted": true
      },
      "outputs": [
        {
          "name": "stdout",
          "output_type": "stream",
          "text": [
            "Data downloaded and read into a dataframe!\n"
          ]
        }
      ],
      "source": [
        "#from js import fetch\n",
        "#import io\n",
        "\n",
        "URL = 'https://cf-courses-data.s3.us.cloud-object-storage.appdomain.cloud/IBMDeveloperSkillsNetwork-DV0101EN-SkillsNetwork/Data%20Files/Canada.xlsx'\n",
        "#resp = await fetch(URL)\n",
        "#text = io.BytesIO((await resp.arrayBuffer()).to_py())\n",
        "\n",
        "df_can = pd.read_excel(\n",
        "    URL,\n",
        "    sheet_name='Canada by Citizenship',\n",
        "    skiprows=range(20),\n",
        "    skipfooter=2)\n",
        "print('Data downloaded and read into a dataframe!')\n"
      ]
    },
    {
      "cell_type": "markdown",
      "metadata": {
        "button": false,
        "new_sheet": false,
        "run_control": {
          "read_only": false
        }
      },
      "source": [
        "Let's take a look at the first five items in our dataset.\n"
      ]
    },
    {
      "cell_type": "code",
      "execution_count": 4,
      "metadata": {
        "button": false,
        "collapsed": false,
        "jupyter": {
          "outputs_hidden": false
        },
        "new_sheet": false,
        "run_control": {
          "read_only": false
        },
        "trusted": true
      },
      "outputs": [
        {
          "data": {
            "text/html": [
              "<div>\n",
              "<style scoped>\n",
              "    .dataframe tbody tr th:only-of-type {\n",
              "        vertical-align: middle;\n",
              "    }\n",
              "\n",
              "    .dataframe tbody tr th {\n",
              "        vertical-align: top;\n",
              "    }\n",
              "\n",
              "    .dataframe thead th {\n",
              "        text-align: right;\n",
              "    }\n",
              "</style>\n",
              "<table border=\"1\" class=\"dataframe\">\n",
              "  <thead>\n",
              "    <tr style=\"text-align: right;\">\n",
              "      <th></th>\n",
              "      <th>Type</th>\n",
              "      <th>Coverage</th>\n",
              "      <th>OdName</th>\n",
              "      <th>AREA</th>\n",
              "      <th>AreaName</th>\n",
              "      <th>REG</th>\n",
              "      <th>RegName</th>\n",
              "      <th>DEV</th>\n",
              "      <th>DevName</th>\n",
              "      <th>1980</th>\n",
              "      <th>...</th>\n",
              "      <th>2004</th>\n",
              "      <th>2005</th>\n",
              "      <th>2006</th>\n",
              "      <th>2007</th>\n",
              "      <th>2008</th>\n",
              "      <th>2009</th>\n",
              "      <th>2010</th>\n",
              "      <th>2011</th>\n",
              "      <th>2012</th>\n",
              "      <th>2013</th>\n",
              "    </tr>\n",
              "  </thead>\n",
              "  <tbody>\n",
              "    <tr>\n",
              "      <th>0</th>\n",
              "      <td>Immigrants</td>\n",
              "      <td>Foreigners</td>\n",
              "      <td>Afghanistan</td>\n",
              "      <td>935</td>\n",
              "      <td>Asia</td>\n",
              "      <td>5501</td>\n",
              "      <td>Southern Asia</td>\n",
              "      <td>902</td>\n",
              "      <td>Developing regions</td>\n",
              "      <td>16</td>\n",
              "      <td>...</td>\n",
              "      <td>2978</td>\n",
              "      <td>3436</td>\n",
              "      <td>3009</td>\n",
              "      <td>2652</td>\n",
              "      <td>2111</td>\n",
              "      <td>1746</td>\n",
              "      <td>1758</td>\n",
              "      <td>2203</td>\n",
              "      <td>2635</td>\n",
              "      <td>2004</td>\n",
              "    </tr>\n",
              "    <tr>\n",
              "      <th>1</th>\n",
              "      <td>Immigrants</td>\n",
              "      <td>Foreigners</td>\n",
              "      <td>Albania</td>\n",
              "      <td>908</td>\n",
              "      <td>Europe</td>\n",
              "      <td>925</td>\n",
              "      <td>Southern Europe</td>\n",
              "      <td>901</td>\n",
              "      <td>Developed regions</td>\n",
              "      <td>1</td>\n",
              "      <td>...</td>\n",
              "      <td>1450</td>\n",
              "      <td>1223</td>\n",
              "      <td>856</td>\n",
              "      <td>702</td>\n",
              "      <td>560</td>\n",
              "      <td>716</td>\n",
              "      <td>561</td>\n",
              "      <td>539</td>\n",
              "      <td>620</td>\n",
              "      <td>603</td>\n",
              "    </tr>\n",
              "    <tr>\n",
              "      <th>2</th>\n",
              "      <td>Immigrants</td>\n",
              "      <td>Foreigners</td>\n",
              "      <td>Algeria</td>\n",
              "      <td>903</td>\n",
              "      <td>Africa</td>\n",
              "      <td>912</td>\n",
              "      <td>Northern Africa</td>\n",
              "      <td>902</td>\n",
              "      <td>Developing regions</td>\n",
              "      <td>80</td>\n",
              "      <td>...</td>\n",
              "      <td>3616</td>\n",
              "      <td>3626</td>\n",
              "      <td>4807</td>\n",
              "      <td>3623</td>\n",
              "      <td>4005</td>\n",
              "      <td>5393</td>\n",
              "      <td>4752</td>\n",
              "      <td>4325</td>\n",
              "      <td>3774</td>\n",
              "      <td>4331</td>\n",
              "    </tr>\n",
              "    <tr>\n",
              "      <th>3</th>\n",
              "      <td>Immigrants</td>\n",
              "      <td>Foreigners</td>\n",
              "      <td>American Samoa</td>\n",
              "      <td>909</td>\n",
              "      <td>Oceania</td>\n",
              "      <td>957</td>\n",
              "      <td>Polynesia</td>\n",
              "      <td>902</td>\n",
              "      <td>Developing regions</td>\n",
              "      <td>0</td>\n",
              "      <td>...</td>\n",
              "      <td>0</td>\n",
              "      <td>0</td>\n",
              "      <td>1</td>\n",
              "      <td>0</td>\n",
              "      <td>0</td>\n",
              "      <td>0</td>\n",
              "      <td>0</td>\n",
              "      <td>0</td>\n",
              "      <td>0</td>\n",
              "      <td>0</td>\n",
              "    </tr>\n",
              "    <tr>\n",
              "      <th>4</th>\n",
              "      <td>Immigrants</td>\n",
              "      <td>Foreigners</td>\n",
              "      <td>Andorra</td>\n",
              "      <td>908</td>\n",
              "      <td>Europe</td>\n",
              "      <td>925</td>\n",
              "      <td>Southern Europe</td>\n",
              "      <td>901</td>\n",
              "      <td>Developed regions</td>\n",
              "      <td>0</td>\n",
              "      <td>...</td>\n",
              "      <td>0</td>\n",
              "      <td>0</td>\n",
              "      <td>1</td>\n",
              "      <td>1</td>\n",
              "      <td>0</td>\n",
              "      <td>0</td>\n",
              "      <td>0</td>\n",
              "      <td>0</td>\n",
              "      <td>1</td>\n",
              "      <td>1</td>\n",
              "    </tr>\n",
              "  </tbody>\n",
              "</table>\n",
              "<p>5 rows × 43 columns</p>\n",
              "</div>"
            ],
            "text/plain": [
              "         Type    Coverage          OdName  AREA AreaName   REG  \\\n",
              "0  Immigrants  Foreigners     Afghanistan   935     Asia  5501   \n",
              "1  Immigrants  Foreigners         Albania   908   Europe   925   \n",
              "2  Immigrants  Foreigners         Algeria   903   Africa   912   \n",
              "3  Immigrants  Foreigners  American Samoa   909  Oceania   957   \n",
              "4  Immigrants  Foreigners         Andorra   908   Europe   925   \n",
              "\n",
              "           RegName  DEV             DevName  1980  ...  2004  2005  2006  \\\n",
              "0    Southern Asia  902  Developing regions    16  ...  2978  3436  3009   \n",
              "1  Southern Europe  901   Developed regions     1  ...  1450  1223   856   \n",
              "2  Northern Africa  902  Developing regions    80  ...  3616  3626  4807   \n",
              "3        Polynesia  902  Developing regions     0  ...     0     0     1   \n",
              "4  Southern Europe  901   Developed regions     0  ...     0     0     1   \n",
              "\n",
              "   2007  2008  2009  2010  2011  2012  2013  \n",
              "0  2652  2111  1746  1758  2203  2635  2004  \n",
              "1   702   560   716   561   539   620   603  \n",
              "2  3623  4005  5393  4752  4325  3774  4331  \n",
              "3     0     0     0     0     0     0     0  \n",
              "4     1     0     0     0     0     1     1  \n",
              "\n",
              "[5 rows x 43 columns]"
            ]
          },
          "execution_count": 4,
          "metadata": {},
          "output_type": "execute_result"
        }
      ],
      "source": [
        "df_can.head()"
      ]
    },
    {
      "cell_type": "markdown",
      "metadata": {
        "button": false,
        "new_sheet": false,
        "run_control": {
          "read_only": false
        }
      },
      "source": [
        "Let's find out how many entries there are in our dataset.\n"
      ]
    },
    {
      "cell_type": "code",
      "execution_count": 4,
      "metadata": {
        "button": false,
        "collapsed": false,
        "jupyter": {
          "outputs_hidden": false
        },
        "new_sheet": false,
        "run_control": {
          "read_only": false
        },
        "trusted": true
      },
      "outputs": [
        {
          "name": "stdout",
          "output_type": "stream",
          "text": [
            "(195, 43)\n"
          ]
        }
      ],
      "source": [
        "# print the dimensions of the dataframe\n",
        "print(df_can.shape)"
      ]
    },
    {
      "cell_type": "markdown",
      "metadata": {
        "button": false,
        "new_sheet": false,
        "run_control": {
          "read_only": false
        }
      },
      "source": [
        "Clean up data. We will make some modifications to the original dataset to make it easier to create our visualizations. Refer to *Introduction to Matplotlib and Line Plots* and *Area Plots, Histograms, and Bar Plots* for a detailed description of this preprocessing.\n"
      ]
    },
    {
      "cell_type": "code",
      "execution_count": 5,
      "metadata": {
        "button": false,
        "collapsed": false,
        "jupyter": {
          "outputs_hidden": false
        },
        "new_sheet": false,
        "run_control": {
          "read_only": false
        },
        "trusted": true
      },
      "outputs": [
        {
          "name": "stdout",
          "output_type": "stream",
          "text": [
            "data dimensions: (195, 38)\n"
          ]
        },
        {
          "name": "stderr",
          "output_type": "stream",
          "text": [
            "C:\\Users\\Lucyfer\\AppData\\Local\\Temp\\ipykernel_14956\\3015018611.py:14: FutureWarning: Dropping of nuisance columns in DataFrame reductions (with 'numeric_only=None') is deprecated; in a future version this will raise TypeError.  Select only valid columns before calling the reduction.\n",
            "  df_can['Total'] = df_can.sum(axis=1)\n"
          ]
        }
      ],
      "source": [
        "# clean up the dataset to remove unnecessary columns (eg. REG) \n",
        "df_can.drop(['AREA', 'REG', 'DEV', 'Type', 'Coverage'], axis=1, inplace=True)\n",
        "\n",
        "# let's rename the columns so that they make sense\n",
        "df_can.rename(columns={'OdName':'Country', 'AreaName':'Continent','RegName':'Region'}, inplace=True)\n",
        "\n",
        "# for sake of consistency, let's also make all column labels of type string\n",
        "df_can.columns = list(map(str, df_can.columns))\n",
        "\n",
        "# set the country name as index - useful for quickly looking up countries using .loc method\n",
        "df_can.set_index('Country', inplace=True)\n",
        "\n",
        "# add total column\n",
        "df_can['Total'] = df_can.sum(axis=1)\n",
        "\n",
        "# years that we will be using in this lesson - useful for plotting later on\n",
        "years = list(map(str, range(1980, 2014)))\n",
        "print('data dimensions:', df_can.shape)"
      ]
    },
    {
      "cell_type": "markdown",
      "metadata": {
        "button": false,
        "new_sheet": false,
        "run_control": {
          "read_only": false
        }
      },
      "source": [
        "# Visualizing Data using Matplotlib<a id=\"4\"></a>\n"
      ]
    },
    {
      "cell_type": "markdown",
      "metadata": {
        "button": false,
        "new_sheet": false,
        "run_control": {
          "read_only": false
        }
      },
      "source": [
        "Import `Matplotlib`.\n"
      ]
    },
    {
      "cell_type": "code",
      "execution_count": 6,
      "metadata": {
        "button": false,
        "collapsed": false,
        "jupyter": {
          "outputs_hidden": false
        },
        "new_sheet": false,
        "run_control": {
          "read_only": false
        },
        "trusted": true
      },
      "outputs": [
        {
          "name": "stdout",
          "output_type": "stream",
          "text": [
            "Matplotlib version:  3.5.2\n"
          ]
        }
      ],
      "source": [
        "%matplotlib inline\n",
        "\n",
        "import matplotlib as mpl\n",
        "import matplotlib.pyplot as plt\n",
        "\n",
        "mpl.style.use('ggplot') # optional: for ggplot-like style\n",
        "\n",
        "# check for latest version of Matplotlib\n",
        "print('Matplotlib version: ', mpl.__version__) # >= 2.0.0"
      ]
    },
    {
      "cell_type": "markdown",
      "metadata": {
        "button": false,
        "new_sheet": false,
        "run_control": {
          "read_only": false
        }
      },
      "source": [
        "# Pie Charts <a id=\"6\"></a>\n",
        "\n",
        "A `pie chart` is a circular graphic that displays numeric proportions by dividing a circle (or pie) into proportional slices. You are most likely already familiar with pie charts as it is widely used in business and media. We can create pie charts in Matplotlib by passing in the `kind=pie` keyword.\n",
        "\n",
        "Let's use a pie chart to explore the proportion (percentage) of new immigrants grouped by continents for the entire time period from 1980 to 2013.\n"
      ]
    },
    {
      "cell_type": "markdown",
      "metadata": {
        "button": false,
        "new_sheet": false,
        "run_control": {
          "read_only": false
        }
      },
      "source": [
        "Step 1: Gather data.\n",
        "\n",
        "We will use *pandas* `groupby` method to summarize the immigration data by `Continent`. The general process of `groupby` involves the following steps:\n",
        "\n",
        "1.  **Split:** Splitting the data into groups based on some criteria.\n",
        "2.  **Apply:** Applying a function to each group independently:\n",
        "    .sum()\n",
        "    .count()\n",
        "    .mean()\n",
        "    .std()\n",
        "    .aggregate()\n",
        "    .apply()\n",
        "    .etc..\n",
        "3.  **Combine:** Combining the results into a data structure.\n"
      ]
    },
    {
      "cell_type": "markdown",
      "metadata": {
        "button": false,
        "new_sheet": false,
        "run_control": {
          "read_only": false
        }
      },
      "source": [
        "<img src=\"https://cf-courses-data.s3.us.cloud-object-storage.appdomain.cloud/IBMDeveloperSkillsNetwork-DV0101EN-SkillsNetwork/labs/Module%203/images/Mod3Fig4SplitApplyCombine.png\" height=400 align=\"center\">\n"
      ]
    },
    {
      "cell_type": "code",
      "execution_count": 14,
      "metadata": {},
      "outputs": [
        {
          "data": {
            "text/html": [
              "<div>\n",
              "<style scoped>\n",
              "    .dataframe tbody tr th:only-of-type {\n",
              "        vertical-align: middle;\n",
              "    }\n",
              "\n",
              "    .dataframe tbody tr th {\n",
              "        vertical-align: top;\n",
              "    }\n",
              "\n",
              "    .dataframe thead th {\n",
              "        text-align: right;\n",
              "    }\n",
              "</style>\n",
              "<table border=\"1\" class=\"dataframe\">\n",
              "  <thead>\n",
              "    <tr style=\"text-align: right;\">\n",
              "      <th></th>\n",
              "      <th>1980</th>\n",
              "      <th>1981</th>\n",
              "      <th>1982</th>\n",
              "      <th>1983</th>\n",
              "      <th>1984</th>\n",
              "      <th>1985</th>\n",
              "      <th>1986</th>\n",
              "      <th>1987</th>\n",
              "      <th>1988</th>\n",
              "      <th>1989</th>\n",
              "      <th>...</th>\n",
              "      <th>2005</th>\n",
              "      <th>2006</th>\n",
              "      <th>2007</th>\n",
              "      <th>2008</th>\n",
              "      <th>2009</th>\n",
              "      <th>2010</th>\n",
              "      <th>2011</th>\n",
              "      <th>2012</th>\n",
              "      <th>2013</th>\n",
              "      <th>Total</th>\n",
              "    </tr>\n",
              "    <tr>\n",
              "      <th>Continent</th>\n",
              "      <th></th>\n",
              "      <th></th>\n",
              "      <th></th>\n",
              "      <th></th>\n",
              "      <th></th>\n",
              "      <th></th>\n",
              "      <th></th>\n",
              "      <th></th>\n",
              "      <th></th>\n",
              "      <th></th>\n",
              "      <th></th>\n",
              "      <th></th>\n",
              "      <th></th>\n",
              "      <th></th>\n",
              "      <th></th>\n",
              "      <th></th>\n",
              "      <th></th>\n",
              "      <th></th>\n",
              "      <th></th>\n",
              "      <th></th>\n",
              "      <th></th>\n",
              "    </tr>\n",
              "  </thead>\n",
              "  <tbody>\n",
              "    <tr>\n",
              "      <th>Africa</th>\n",
              "      <td>3951</td>\n",
              "      <td>4363</td>\n",
              "      <td>3819</td>\n",
              "      <td>2671</td>\n",
              "      <td>2639</td>\n",
              "      <td>2650</td>\n",
              "      <td>3782</td>\n",
              "      <td>7494</td>\n",
              "      <td>7552</td>\n",
              "      <td>9894</td>\n",
              "      <td>...</td>\n",
              "      <td>27523</td>\n",
              "      <td>29188</td>\n",
              "      <td>28284</td>\n",
              "      <td>29890</td>\n",
              "      <td>34534</td>\n",
              "      <td>40892</td>\n",
              "      <td>35441</td>\n",
              "      <td>38083</td>\n",
              "      <td>38543</td>\n",
              "      <td>618948</td>\n",
              "    </tr>\n",
              "    <tr>\n",
              "      <th>Asia</th>\n",
              "      <td>31025</td>\n",
              "      <td>34314</td>\n",
              "      <td>30214</td>\n",
              "      <td>24696</td>\n",
              "      <td>27274</td>\n",
              "      <td>23850</td>\n",
              "      <td>28739</td>\n",
              "      <td>43203</td>\n",
              "      <td>47454</td>\n",
              "      <td>60256</td>\n",
              "      <td>...</td>\n",
              "      <td>159253</td>\n",
              "      <td>149054</td>\n",
              "      <td>133459</td>\n",
              "      <td>139894</td>\n",
              "      <td>141434</td>\n",
              "      <td>163845</td>\n",
              "      <td>146894</td>\n",
              "      <td>152218</td>\n",
              "      <td>155075</td>\n",
              "      <td>3317794</td>\n",
              "    </tr>\n",
              "    <tr>\n",
              "      <th>Europe</th>\n",
              "      <td>39760</td>\n",
              "      <td>44802</td>\n",
              "      <td>42720</td>\n",
              "      <td>24638</td>\n",
              "      <td>22287</td>\n",
              "      <td>20844</td>\n",
              "      <td>24370</td>\n",
              "      <td>46698</td>\n",
              "      <td>54726</td>\n",
              "      <td>60893</td>\n",
              "      <td>...</td>\n",
              "      <td>35955</td>\n",
              "      <td>33053</td>\n",
              "      <td>33495</td>\n",
              "      <td>34692</td>\n",
              "      <td>35078</td>\n",
              "      <td>33425</td>\n",
              "      <td>26778</td>\n",
              "      <td>29177</td>\n",
              "      <td>28691</td>\n",
              "      <td>1410947</td>\n",
              "    </tr>\n",
              "    <tr>\n",
              "      <th>Latin America and the Caribbean</th>\n",
              "      <td>13081</td>\n",
              "      <td>15215</td>\n",
              "      <td>16769</td>\n",
              "      <td>15427</td>\n",
              "      <td>13678</td>\n",
              "      <td>15171</td>\n",
              "      <td>21179</td>\n",
              "      <td>28471</td>\n",
              "      <td>21924</td>\n",
              "      <td>25060</td>\n",
              "      <td>...</td>\n",
              "      <td>24747</td>\n",
              "      <td>24676</td>\n",
              "      <td>26011</td>\n",
              "      <td>26547</td>\n",
              "      <td>26867</td>\n",
              "      <td>28818</td>\n",
              "      <td>27856</td>\n",
              "      <td>27173</td>\n",
              "      <td>24950</td>\n",
              "      <td>765148</td>\n",
              "    </tr>\n",
              "    <tr>\n",
              "      <th>Northern America</th>\n",
              "      <td>9378</td>\n",
              "      <td>10030</td>\n",
              "      <td>9074</td>\n",
              "      <td>7100</td>\n",
              "      <td>6661</td>\n",
              "      <td>6543</td>\n",
              "      <td>7074</td>\n",
              "      <td>7705</td>\n",
              "      <td>6469</td>\n",
              "      <td>6790</td>\n",
              "      <td>...</td>\n",
              "      <td>8394</td>\n",
              "      <td>9613</td>\n",
              "      <td>9463</td>\n",
              "      <td>10190</td>\n",
              "      <td>8995</td>\n",
              "      <td>8142</td>\n",
              "      <td>7677</td>\n",
              "      <td>7892</td>\n",
              "      <td>8503</td>\n",
              "      <td>241142</td>\n",
              "    </tr>\n",
              "  </tbody>\n",
              "</table>\n",
              "<p>5 rows × 35 columns</p>\n",
              "</div>"
            ],
            "text/plain": [
              "                                  1980   1981   1982   1983   1984   1985  \\\n",
              "Continent                                                                   \n",
              "Africa                            3951   4363   3819   2671   2639   2650   \n",
              "Asia                             31025  34314  30214  24696  27274  23850   \n",
              "Europe                           39760  44802  42720  24638  22287  20844   \n",
              "Latin America and the Caribbean  13081  15215  16769  15427  13678  15171   \n",
              "Northern America                  9378  10030   9074   7100   6661   6543   \n",
              "\n",
              "                                  1986   1987   1988   1989  ...    2005  \\\n",
              "Continent                                                    ...           \n",
              "Africa                            3782   7494   7552   9894  ...   27523   \n",
              "Asia                             28739  43203  47454  60256  ...  159253   \n",
              "Europe                           24370  46698  54726  60893  ...   35955   \n",
              "Latin America and the Caribbean  21179  28471  21924  25060  ...   24747   \n",
              "Northern America                  7074   7705   6469   6790  ...    8394   \n",
              "\n",
              "                                   2006    2007    2008    2009    2010  \\\n",
              "Continent                                                                 \n",
              "Africa                            29188   28284   29890   34534   40892   \n",
              "Asia                             149054  133459  139894  141434  163845   \n",
              "Europe                            33053   33495   34692   35078   33425   \n",
              "Latin America and the Caribbean   24676   26011   26547   26867   28818   \n",
              "Northern America                   9613    9463   10190    8995    8142   \n",
              "\n",
              "                                   2011    2012    2013    Total  \n",
              "Continent                                                         \n",
              "Africa                            35441   38083   38543   618948  \n",
              "Asia                             146894  152218  155075  3317794  \n",
              "Europe                            26778   29177   28691  1410947  \n",
              "Latin America and the Caribbean   27856   27173   24950   765148  \n",
              "Northern America                   7677    7892    8503   241142  \n",
              "\n",
              "[5 rows x 35 columns]"
            ]
          },
          "execution_count": 14,
          "metadata": {},
          "output_type": "execute_result"
        }
      ],
      "source": [
        "df_c = df_can.groupby('Continent').sum()\n",
        "df_c.head()\n"
      ]
    },
    {
      "cell_type": "code",
      "execution_count": 15,
      "metadata": {
        "button": false,
        "collapsed": false,
        "jupyter": {
          "outputs_hidden": false
        },
        "new_sheet": false,
        "run_control": {
          "read_only": false
        },
        "trusted": true
      },
      "outputs": [
        {
          "name": "stdout",
          "output_type": "stream",
          "text": [
            "<class 'pandas.core.groupby.generic.DataFrameGroupBy'>\n"
          ]
        },
        {
          "data": {
            "text/html": [
              "<div>\n",
              "<style scoped>\n",
              "    .dataframe tbody tr th:only-of-type {\n",
              "        vertical-align: middle;\n",
              "    }\n",
              "\n",
              "    .dataframe tbody tr th {\n",
              "        vertical-align: top;\n",
              "    }\n",
              "\n",
              "    .dataframe thead th {\n",
              "        text-align: right;\n",
              "    }\n",
              "</style>\n",
              "<table border=\"1\" class=\"dataframe\">\n",
              "  <thead>\n",
              "    <tr style=\"text-align: right;\">\n",
              "      <th></th>\n",
              "      <th>1980</th>\n",
              "      <th>1981</th>\n",
              "      <th>1982</th>\n",
              "      <th>1983</th>\n",
              "      <th>1984</th>\n",
              "      <th>1985</th>\n",
              "      <th>1986</th>\n",
              "      <th>1987</th>\n",
              "      <th>1988</th>\n",
              "      <th>1989</th>\n",
              "      <th>...</th>\n",
              "      <th>2005</th>\n",
              "      <th>2006</th>\n",
              "      <th>2007</th>\n",
              "      <th>2008</th>\n",
              "      <th>2009</th>\n",
              "      <th>2010</th>\n",
              "      <th>2011</th>\n",
              "      <th>2012</th>\n",
              "      <th>2013</th>\n",
              "      <th>Total</th>\n",
              "    </tr>\n",
              "    <tr>\n",
              "      <th>Continent</th>\n",
              "      <th></th>\n",
              "      <th></th>\n",
              "      <th></th>\n",
              "      <th></th>\n",
              "      <th></th>\n",
              "      <th></th>\n",
              "      <th></th>\n",
              "      <th></th>\n",
              "      <th></th>\n",
              "      <th></th>\n",
              "      <th></th>\n",
              "      <th></th>\n",
              "      <th></th>\n",
              "      <th></th>\n",
              "      <th></th>\n",
              "      <th></th>\n",
              "      <th></th>\n",
              "      <th></th>\n",
              "      <th></th>\n",
              "      <th></th>\n",
              "      <th></th>\n",
              "    </tr>\n",
              "  </thead>\n",
              "  <tbody>\n",
              "    <tr>\n",
              "      <th>Africa</th>\n",
              "      <td>3951</td>\n",
              "      <td>4363</td>\n",
              "      <td>3819</td>\n",
              "      <td>2671</td>\n",
              "      <td>2639</td>\n",
              "      <td>2650</td>\n",
              "      <td>3782</td>\n",
              "      <td>7494</td>\n",
              "      <td>7552</td>\n",
              "      <td>9894</td>\n",
              "      <td>...</td>\n",
              "      <td>27523</td>\n",
              "      <td>29188</td>\n",
              "      <td>28284</td>\n",
              "      <td>29890</td>\n",
              "      <td>34534</td>\n",
              "      <td>40892</td>\n",
              "      <td>35441</td>\n",
              "      <td>38083</td>\n",
              "      <td>38543</td>\n",
              "      <td>618948</td>\n",
              "    </tr>\n",
              "    <tr>\n",
              "      <th>Asia</th>\n",
              "      <td>31025</td>\n",
              "      <td>34314</td>\n",
              "      <td>30214</td>\n",
              "      <td>24696</td>\n",
              "      <td>27274</td>\n",
              "      <td>23850</td>\n",
              "      <td>28739</td>\n",
              "      <td>43203</td>\n",
              "      <td>47454</td>\n",
              "      <td>60256</td>\n",
              "      <td>...</td>\n",
              "      <td>159253</td>\n",
              "      <td>149054</td>\n",
              "      <td>133459</td>\n",
              "      <td>139894</td>\n",
              "      <td>141434</td>\n",
              "      <td>163845</td>\n",
              "      <td>146894</td>\n",
              "      <td>152218</td>\n",
              "      <td>155075</td>\n",
              "      <td>3317794</td>\n",
              "    </tr>\n",
              "    <tr>\n",
              "      <th>Europe</th>\n",
              "      <td>39760</td>\n",
              "      <td>44802</td>\n",
              "      <td>42720</td>\n",
              "      <td>24638</td>\n",
              "      <td>22287</td>\n",
              "      <td>20844</td>\n",
              "      <td>24370</td>\n",
              "      <td>46698</td>\n",
              "      <td>54726</td>\n",
              "      <td>60893</td>\n",
              "      <td>...</td>\n",
              "      <td>35955</td>\n",
              "      <td>33053</td>\n",
              "      <td>33495</td>\n",
              "      <td>34692</td>\n",
              "      <td>35078</td>\n",
              "      <td>33425</td>\n",
              "      <td>26778</td>\n",
              "      <td>29177</td>\n",
              "      <td>28691</td>\n",
              "      <td>1410947</td>\n",
              "    </tr>\n",
              "    <tr>\n",
              "      <th>Latin America and the Caribbean</th>\n",
              "      <td>13081</td>\n",
              "      <td>15215</td>\n",
              "      <td>16769</td>\n",
              "      <td>15427</td>\n",
              "      <td>13678</td>\n",
              "      <td>15171</td>\n",
              "      <td>21179</td>\n",
              "      <td>28471</td>\n",
              "      <td>21924</td>\n",
              "      <td>25060</td>\n",
              "      <td>...</td>\n",
              "      <td>24747</td>\n",
              "      <td>24676</td>\n",
              "      <td>26011</td>\n",
              "      <td>26547</td>\n",
              "      <td>26867</td>\n",
              "      <td>28818</td>\n",
              "      <td>27856</td>\n",
              "      <td>27173</td>\n",
              "      <td>24950</td>\n",
              "      <td>765148</td>\n",
              "    </tr>\n",
              "    <tr>\n",
              "      <th>Northern America</th>\n",
              "      <td>9378</td>\n",
              "      <td>10030</td>\n",
              "      <td>9074</td>\n",
              "      <td>7100</td>\n",
              "      <td>6661</td>\n",
              "      <td>6543</td>\n",
              "      <td>7074</td>\n",
              "      <td>7705</td>\n",
              "      <td>6469</td>\n",
              "      <td>6790</td>\n",
              "      <td>...</td>\n",
              "      <td>8394</td>\n",
              "      <td>9613</td>\n",
              "      <td>9463</td>\n",
              "      <td>10190</td>\n",
              "      <td>8995</td>\n",
              "      <td>8142</td>\n",
              "      <td>7677</td>\n",
              "      <td>7892</td>\n",
              "      <td>8503</td>\n",
              "      <td>241142</td>\n",
              "    </tr>\n",
              "  </tbody>\n",
              "</table>\n",
              "<p>5 rows × 35 columns</p>\n",
              "</div>"
            ],
            "text/plain": [
              "                                  1980   1981   1982   1983   1984   1985  \\\n",
              "Continent                                                                   \n",
              "Africa                            3951   4363   3819   2671   2639   2650   \n",
              "Asia                             31025  34314  30214  24696  27274  23850   \n",
              "Europe                           39760  44802  42720  24638  22287  20844   \n",
              "Latin America and the Caribbean  13081  15215  16769  15427  13678  15171   \n",
              "Northern America                  9378  10030   9074   7100   6661   6543   \n",
              "\n",
              "                                  1986   1987   1988   1989  ...    2005  \\\n",
              "Continent                                                    ...           \n",
              "Africa                            3782   7494   7552   9894  ...   27523   \n",
              "Asia                             28739  43203  47454  60256  ...  159253   \n",
              "Europe                           24370  46698  54726  60893  ...   35955   \n",
              "Latin America and the Caribbean  21179  28471  21924  25060  ...   24747   \n",
              "Northern America                  7074   7705   6469   6790  ...    8394   \n",
              "\n",
              "                                   2006    2007    2008    2009    2010  \\\n",
              "Continent                                                                 \n",
              "Africa                            29188   28284   29890   34534   40892   \n",
              "Asia                             149054  133459  139894  141434  163845   \n",
              "Europe                            33053   33495   34692   35078   33425   \n",
              "Latin America and the Caribbean   24676   26011   26547   26867   28818   \n",
              "Northern America                   9613    9463   10190    8995    8142   \n",
              "\n",
              "                                   2011    2012    2013    Total  \n",
              "Continent                                                         \n",
              "Africa                            35441   38083   38543   618948  \n",
              "Asia                             146894  152218  155075  3317794  \n",
              "Europe                            26778   29177   28691  1410947  \n",
              "Latin America and the Caribbean   27856   27173   24950   765148  \n",
              "Northern America                   7677    7892    8503   241142  \n",
              "\n",
              "[5 rows x 35 columns]"
            ]
          },
          "execution_count": 15,
          "metadata": {},
          "output_type": "execute_result"
        }
      ],
      "source": [
        "# group countries by continents and apply sum() function \n",
        "df_continents = df_can.groupby('Continent', axis=0).sum()\n",
        "\n",
        "# note: the output of the groupby method is a `groupby' object. \n",
        "# we can not use it further until we apply a function (eg .sum())\n",
        "print(type(df_can.groupby('Continent', axis=0)))\n",
        "\n",
        "df_continents.head()"
      ]
    },
    {
      "cell_type": "markdown",
      "metadata": {
        "button": false,
        "new_sheet": false,
        "run_control": {
          "read_only": false
        }
      },
      "source": [
        "Step 2: Plot the data. We will pass in `kind = 'pie'` keyword, along with the following additional parameters:\n",
        "\n",
        "*   `autopct` -  is a string or function used to label the wedges with their numeric value. The label will be placed inside the wedge. If it is a format string, the label will be `fmt%pct`.\n",
        "*   `startangle` - rotates the start of the pie chart by angle degrees counterclockwise from the x-axis.\n",
        "*   `shadow` - Draws a shadow beneath the pie (to give a 3D feel).\n"
      ]
    },
    {
      "cell_type": "code",
      "execution_count": 16,
      "metadata": {
        "button": false,
        "collapsed": false,
        "jupyter": {
          "outputs_hidden": false
        },
        "new_sheet": false,
        "run_control": {
          "read_only": false
        },
        "trusted": true
      },
      "outputs": [
        {
          "data": {
            "image/png": "[encoded data removed]",
            "text/plain": [
              "<Figure size 360x432 with 1 Axes>"
            ]
          },
          "metadata": {},
          "output_type": "display_data"
        }
      ],
      "source": [
        "# autopct create %, start angle represent starting point\n",
        "df_continents['Total'].plot(kind='pie',\n",
        "                            figsize=(5, 6),\n",
        "                            autopct='%1.1f%%', # add in percentages\n",
        "                            startangle=90,     # start angle 90° (Africa)\n",
        "                            shadow=True,       # add shadow      \n",
        "                            )\n",
        "\n",
        "plt.title('Immigration to Canada by Continent [1980 - 2013]')\n",
        "plt.axis('equal') # Sets the pie chart to look like a circle.\n",
        "\n",
        "plt.show()"
      ]
    },
    {
      "cell_type": "markdown",
      "metadata": {
        "button": false,
        "new_sheet": false,
        "run_control": {
          "read_only": false
        }
      },
      "source": [
        "The above visual is not very clear, the numbers and text overlap in some instances. Let's make a few modifications to improve the visuals:\n",
        "\n",
        "*   Remove the text labels on the pie chart by passing in `legend` and add it as a seperate legend using `plt.legend()`.\n",
        "*   Push out the percentages to sit just outside the pie chart by passing in `pctdistance` parameter.\n",
        "*   Pass in a custom set of colors for continents by passing in `colors` parameter.\n",
        "*   **Explode** the pie chart to emphasize the lowest three continents (Africa, North America, and Latin America and Caribbean) by passing in `explode` parameter.\n"
      ]
    },
    {
      "cell_type": "code",
      "execution_count": 17,
      "metadata": {
        "button": false,
        "collapsed": false,
        "jupyter": {
          "outputs_hidden": false
        },
        "new_sheet": false,
        "run_control": {
          "read_only": false
        },
        "trusted": true
      },
      "outputs": [
        {
          "data": {
            "image/png": "[encoded data removed]",
            "text/plain": [
              "<Figure size 1080x432 with 1 Axes>"
            ]
          },
          "metadata": {},
          "output_type": "display_data"
        }
      ],
      "source": [
        "colors_list = ['gold', 'yellowgreen', 'lightcoral', 'lightskyblue', 'lightgreen', 'pink']\n",
        "explode_list = [0.1, 0, 0, 0, 0.1, 0.1] # ratio for each continent with which to offset each wedge.\n",
        "\n",
        "df_continents['Total'].plot(kind='pie',\n",
        "                            figsize=(15, 6),\n",
        "                            autopct='%1.1f%%', \n",
        "                            startangle=90,    \n",
        "                            shadow=True,       \n",
        "                            labels=None,         # turn off labels on pie chart\n",
        "                            pctdistance=1.12,    # the ratio between the center of each pie slice and the start of the text generated by autopct \n",
        "                            colors=colors_list,  # add custom colors\n",
        "                            explode=explode_list # 'explode' lowest 3 continents\n",
        "                            )\n",
        "\n",
        "# scale the title up by 12% to match pctdistance\n",
        "plt.title('Immigration to Canada by Continent [1980 - 2013]', y=1.12) \n",
        "\n",
        "plt.axis('equal') \n",
        "\n",
        "# add legend\n",
        "plt.legend(labels=df_continents.index, loc='upper left') \n",
        "\n",
        "plt.show()"
      ]
    },
    {
      "cell_type": "markdown",
      "metadata": {
        "button": false,
        "new_sheet": false,
        "run_control": {
          "read_only": false
        }
      },
      "source": [
        "**Question:** Using a pie chart, explore the proportion (percentage) of new immigrants grouped by continents in the year 2013.\n",
        "\n",
        "**Note**: You might need to play with the explore values in order to fix any overlapping slice values.\n"
      ]
    },
    {
      "cell_type": "code",
      "execution_count": 18,
      "metadata": {
        "button": false,
        "collapsed": false,
        "jupyter": {
          "outputs_hidden": false
        },
        "new_sheet": false,
        "run_control": {
          "read_only": false
        },
        "trusted": true
      },
      "outputs": [
        {
          "data": {
            "text/plain": [
              "<matplotlib.legend.Legend at 0x292c893eb50>"
            ]
          },
          "execution_count": 18,
          "metadata": {},
          "output_type": "execute_result"
        },
        {
          "data": {
            "image/png": "[encoded data removed]",
            "text/plain": [
              "<Figure size 1080x432 with 1 Axes>"
            ]
          },
          "metadata": {},
          "output_type": "display_data"
        }
      ],
      "source": [
        "### type your answer here\n",
        "colors_list = ['gold', 'yellowgreen', 'orange', 'orangered', 'brown', 'red']\n",
        "explode_list = [0.1, 0, 0, 0, 0.1, 0.1]\n",
        "df_continents['2013'].plot(\n",
        "    kind='pie',\n",
        "    figsize=(15,6),\n",
        "    autopct='%1.1f%%',\n",
        "    startangle=90,\n",
        "    shadow= True,\n",
        "    labels= None,\n",
        "    pctdistance=1.2,\n",
        "    explode= explode_list,\n",
        "    colors= colors_list\n",
        ")\n",
        "plt.title('Inmigration to Canada by continent in 2013', y= 1.12)\n",
        "plt.axis('equal')\n",
        "plt.legend(df_continents.index, loc='upper left')"
      ]
    },
    {
      "cell_type": "markdown",
      "metadata": {
        "button": false,
        "new_sheet": false,
        "run_control": {
          "read_only": false
        }
      },
      "source": [
        "<details><summary>Click here for a sample python solution</summary>\n",
        "\n",
        "```python\n",
        "    #The correct answer is:\n",
        "    explode_list = [0.0, 0, 0, 0.1, 0.1, 0.2] # ratio for each continent with which to offset each wedge.\n",
        "\n",
        "    df_continents['2013'].plot(kind='pie',\n",
        "                                figsize=(15, 6),\n",
        "                                autopct='%1.1f%%', \n",
        "                                startangle=90,    \n",
        "                                shadow=True,       \n",
        "                                labels=None,                 # turn off labels on pie chart\n",
        "                                pctdistance=1.12,            # the ratio between the pie center and start of text label\n",
        "                                explode=explode_list         # 'explode' lowest 3 continents\n",
        "                                )\n",
        "\n",
        "    # scale the title up by 12% to match pctdistance\n",
        "    plt.title('Immigration to Canada by Continent in 2013', y=1.12) \n",
        "    plt.axis('equal') \n",
        "\n",
        "    # add legend\n",
        "    plt.legend(labels=df_continents.index, loc='upper left') \n",
        "\n",
        "    # show plot\n",
        "    plt.show()\n",
        "\n",
        "```\n",
        "\n",
        "</details>\n"
      ]
    },
    {
      "cell_type": "markdown",
      "metadata": {
        "button": false,
        "new_sheet": false,
        "run_control": {
          "read_only": false
        }
      },
      "source": [
        "# Box Plots <a id=\"8\"></a>\n",
        "\n",
        "A `box plot` is a way of statistically representing the *distribution* of the data through five main dimensions:\n",
        "\n",
        "*   **Minimum:** The smallest number in the dataset excluding the outliers.\n",
        "*   **First quartile:** Middle number between the `minimum` and the `median`.\n",
        "*   **Second quartile (Median):** Middle number of the (sorted) dataset.\n",
        "*   **Third quartile:** Middle number between `median` and `maximum`.\n",
        "*   **Maximum:** The largest number in the dataset excluding the outliers.\n"
      ]
    },
    {
      "cell_type": "markdown",
      "metadata": {
        "button": false,
        "new_sheet": false,
        "run_control": {
          "read_only": false
        }
      },
      "source": [
        "<img src=\"https://cf-courses-data.s3.us.cloud-object-storage.appdomain.cloud/IBMDeveloperSkillsNetwork-DV0101EN-SkillsNetwork/labs/Module%203/images/boxplot_complete.png\" width=440, align=\"center\">\n"
      ]
    },
    {
      "cell_type": "markdown",
      "metadata": {
        "button": false,
        "new_sheet": false,
        "run_control": {
          "read_only": false
        }
      },
      "source": [
        "To make a `boxplot`, we can use `kind=box` in `plot` method invoked on a *pandas* series or dataframe.\n",
        "\n",
        "Let's plot the box plot for the Japanese immigrants between 1980 - 2013.\n"
      ]
    },
    {
      "cell_type": "markdown",
      "metadata": {
        "button": false,
        "new_sheet": false,
        "run_control": {
          "read_only": false
        }
      },
      "source": [
        "Step 1: Get the subset of the dataset. Even though we are extracting the data for just one country, we will obtain it as a dataframe. This will help us with calling the `dataframe.describe()` method to view the percentiles.\n"
      ]
    },
    {
      "cell_type": "code",
      "execution_count": 19,
      "metadata": {
        "button": false,
        "collapsed": false,
        "jupyter": {
          "outputs_hidden": false
        },
        "new_sheet": false,
        "run_control": {
          "read_only": false
        },
        "trusted": true
      },
      "outputs": [
        {
          "data": {
            "text/html": [
              "<div>\n",
              "<style scoped>\n",
              "    .dataframe tbody tr th:only-of-type {\n",
              "        vertical-align: middle;\n",
              "    }\n",
              "\n",
              "    .dataframe tbody tr th {\n",
              "        vertical-align: top;\n",
              "    }\n",
              "\n",
              "    .dataframe thead th {\n",
              "        text-align: right;\n",
              "    }\n",
              "</style>\n",
              "<table border=\"1\" class=\"dataframe\">\n",
              "  <thead>\n",
              "    <tr style=\"text-align: right;\">\n",
              "      <th>Country</th>\n",
              "      <th>Japan</th>\n",
              "    </tr>\n",
              "  </thead>\n",
              "  <tbody>\n",
              "    <tr>\n",
              "      <th>1980</th>\n",
              "      <td>701</td>\n",
              "    </tr>\n",
              "    <tr>\n",
              "      <th>1981</th>\n",
              "      <td>756</td>\n",
              "    </tr>\n",
              "    <tr>\n",
              "      <th>1982</th>\n",
              "      <td>598</td>\n",
              "    </tr>\n",
              "    <tr>\n",
              "      <th>1983</th>\n",
              "      <td>309</td>\n",
              "    </tr>\n",
              "    <tr>\n",
              "      <th>1984</th>\n",
              "      <td>246</td>\n",
              "    </tr>\n",
              "  </tbody>\n",
              "</table>\n",
              "</div>"
            ],
            "text/plain": [
              "Country  Japan\n",
              "1980       701\n",
              "1981       756\n",
              "1982       598\n",
              "1983       309\n",
              "1984       246"
            ]
          },
          "execution_count": 19,
          "metadata": {},
          "output_type": "execute_result"
        }
      ],
      "source": [
        "# to get a dataframe, place extra square brackets around 'Japan'.\n",
        "df_japan = df_can.loc[['Japan'], years].transpose()\n",
        "df_japan.head()"
      ]
    },
    {
      "cell_type": "markdown",
      "metadata": {
        "button": false,
        "new_sheet": false,
        "run_control": {
          "read_only": false
        }
      },
      "source": [
        "Step 2: Plot by passing in `kind='box'`.\n"
      ]
    },
    {
      "cell_type": "code",
      "execution_count": 20,
      "metadata": {
        "button": false,
        "collapsed": false,
        "jupyter": {
          "outputs_hidden": false
        },
        "new_sheet": false,
        "run_control": {
          "read_only": false
        },
        "trusted": true
      },
      "outputs": [
        {
          "data": {
            "image/png": "[encoded data removed]",
            "text/plain": [
              "<Figure size 576x432 with 1 Axes>"
            ]
          },
          "metadata": {},
          "output_type": "display_data"
        }
      ],
      "source": [
        "df_japan.plot(kind='box', figsize=(8, 6))\n",
        "\n",
        "plt.title('Box plot of Japanese Immigrants from 1980 - 2013')\n",
        "plt.ylabel('Number of Immigrants')\n",
        "\n",
        "plt.show()"
      ]
    },
    {
      "cell_type": "markdown",
      "metadata": {
        "button": false,
        "new_sheet": false,
        "run_control": {
          "read_only": false
        }
      },
      "source": [
        "We can immediately make a few key observations from the plot above:\n",
        "\n",
        "1.  The minimum number of immigrants is around 200 (min), maximum number is around 1300 (max), and  median number of immigrants is around 900 (median).\n",
        "2.  25% of the years for period 1980 - 2013 had an annual immigrant count of \\~500 or fewer (First quartile).\n",
        "3.  75% of the years for period 1980 - 2013 had an annual immigrant count of \\~1100 or fewer (Third quartile).\n",
        "\n",
        "We can view the actual numbers by calling the `describe()` method on the dataframe.\n"
      ]
    },
    {
      "cell_type": "code",
      "execution_count": 21,
      "metadata": {
        "button": false,
        "collapsed": false,
        "jupyter": {
          "outputs_hidden": false
        },
        "new_sheet": false,
        "run_control": {
          "read_only": false
        },
        "trusted": true
      },
      "outputs": [
        {
          "data": {
            "text/html": [
              "<div>\n",
              "<style scoped>\n",
              "    .dataframe tbody tr th:only-of-type {\n",
              "        vertical-align: middle;\n",
              "    }\n",
              "\n",
              "    .dataframe tbody tr th {\n",
              "        vertical-align: top;\n",
              "    }\n",
              "\n",
              "    .dataframe thead th {\n",
              "        text-align: right;\n",
              "    }\n",
              "</style>\n",
              "<table border=\"1\" class=\"dataframe\">\n",
              "  <thead>\n",
              "    <tr style=\"text-align: right;\">\n",
              "      <th>Country</th>\n",
              "      <th>Japan</th>\n",
              "    </tr>\n",
              "  </thead>\n",
              "  <tbody>\n",
              "    <tr>\n",
              "      <th>count</th>\n",
              "      <td>34.000000</td>\n",
              "    </tr>\n",
              "    <tr>\n",
              "      <th>mean</th>\n",
              "      <td>814.911765</td>\n",
              "    </tr>\n",
              "    <tr>\n",
              "      <th>std</th>\n",
              "      <td>337.219771</td>\n",
              "    </tr>\n",
              "    <tr>\n",
              "      <th>min</th>\n",
              "      <td>198.000000</td>\n",
              "    </tr>\n",
              "    <tr>\n",
              "      <th>25%</th>\n",
              "      <td>529.000000</td>\n",
              "    </tr>\n",
              "    <tr>\n",
              "      <th>50%</th>\n",
              "      <td>902.000000</td>\n",
              "    </tr>\n",
              "    <tr>\n",
              "      <th>75%</th>\n",
              "      <td>1079.000000</td>\n",
              "    </tr>\n",
              "    <tr>\n",
              "      <th>max</th>\n",
              "      <td>1284.000000</td>\n",
              "    </tr>\n",
              "  </tbody>\n",
              "</table>\n",
              "</div>"
            ],
            "text/plain": [
              "Country        Japan\n",
              "count      34.000000\n",
              "mean      814.911765\n",
              "std       337.219771\n",
              "min       198.000000\n",
              "25%       529.000000\n",
              "50%       902.000000\n",
              "75%      1079.000000\n",
              "max      1284.000000"
            ]
          },
          "execution_count": 21,
          "metadata": {},
          "output_type": "execute_result"
        }
      ],
      "source": [
        "df_japan.describe()"
      ]
    },
    {
      "cell_type": "markdown",
      "metadata": {
        "button": false,
        "new_sheet": false,
        "run_control": {
          "read_only": false
        }
      },
      "source": [
        "One of the key benefits of box plots is comparing the distribution of multiple datasets. In one of the previous labs, we observed that China and India had very similar immigration trends. Let's analyze these two countries further using box plots.\n",
        "\n",
        "**Question:** Compare the distribution of the number of new immigrants from India and China for the period 1980 - 2013.\n"
      ]
    },
    {
      "cell_type": "markdown",
      "metadata": {
        "button": false,
        "new_sheet": false,
        "run_control": {
          "read_only": false
        }
      },
      "source": [
        "Step 1: Get the dataset for China and India and call the dataframe **df_CI**.\n"
      ]
    },
    {
      "cell_type": "code",
      "execution_count": 22,
      "metadata": {
        "button": false,
        "collapsed": false,
        "jupyter": {
          "outputs_hidden": false
        },
        "new_sheet": false,
        "run_control": {
          "read_only": false
        },
        "trusted": true
      },
      "outputs": [],
      "source": [
        "### type your answer here\n",
        "df_CI = df_can.loc[['China','India'], years].transpose()\n",
        "\n"
      ]
    },
    {
      "cell_type": "markdown",
      "metadata": {
        "button": false,
        "new_sheet": false,
        "run_control": {
          "read_only": false
        }
      },
      "source": [
        "<details><summary>Click here for a sample python solution</summary>\n",
        "\n",
        "```python\n",
        "    #The correct answer is:\n",
        "    df_CI= df_can.loc[['China', 'India'], years].transpose()\n",
        "    df_CI.head()\n",
        "```\n",
        "\n",
        "</details>\n"
      ]
    },
    {
      "cell_type": "markdown",
      "metadata": {
        "button": false,
        "new_sheet": false,
        "run_control": {
          "read_only": false
        }
      },
      "source": [
        "Let's view the percentiles associated with both countries using the `describe()` method.\n"
      ]
    },
    {
      "cell_type": "code",
      "execution_count": 23,
      "metadata": {
        "button": false,
        "collapsed": false,
        "jupyter": {
          "outputs_hidden": false
        },
        "new_sheet": false,
        "run_control": {
          "read_only": false
        },
        "scrolled": true,
        "trusted": true
      },
      "outputs": [
        {
          "data": {
            "text/html": [
              "<div>\n",
              "<style scoped>\n",
              "    .dataframe tbody tr th:only-of-type {\n",
              "        vertical-align: middle;\n",
              "    }\n",
              "\n",
              "    .dataframe tbody tr th {\n",
              "        vertical-align: top;\n",
              "    }\n",
              "\n",
              "    .dataframe thead th {\n",
              "        text-align: right;\n",
              "    }\n",
              "</style>\n",
              "<table border=\"1\" class=\"dataframe\">\n",
              "  <thead>\n",
              "    <tr style=\"text-align: right;\">\n",
              "      <th>Country</th>\n",
              "      <th>China</th>\n",
              "      <th>India</th>\n",
              "    </tr>\n",
              "  </thead>\n",
              "  <tbody>\n",
              "    <tr>\n",
              "      <th>count</th>\n",
              "      <td>34.000000</td>\n",
              "      <td>34.000000</td>\n",
              "    </tr>\n",
              "    <tr>\n",
              "      <th>mean</th>\n",
              "      <td>19410.647059</td>\n",
              "      <td>20350.117647</td>\n",
              "    </tr>\n",
              "    <tr>\n",
              "      <th>std</th>\n",
              "      <td>13568.230790</td>\n",
              "      <td>10007.342579</td>\n",
              "    </tr>\n",
              "    <tr>\n",
              "      <th>min</th>\n",
              "      <td>1527.000000</td>\n",
              "      <td>4211.000000</td>\n",
              "    </tr>\n",
              "    <tr>\n",
              "      <th>25%</th>\n",
              "      <td>5512.750000</td>\n",
              "      <td>10637.750000</td>\n",
              "    </tr>\n",
              "    <tr>\n",
              "      <th>50%</th>\n",
              "      <td>19945.000000</td>\n",
              "      <td>20235.000000</td>\n",
              "    </tr>\n",
              "    <tr>\n",
              "      <th>75%</th>\n",
              "      <td>31568.500000</td>\n",
              "      <td>28699.500000</td>\n",
              "    </tr>\n",
              "    <tr>\n",
              "      <th>max</th>\n",
              "      <td>42584.000000</td>\n",
              "      <td>36210.000000</td>\n",
              "    </tr>\n",
              "  </tbody>\n",
              "</table>\n",
              "</div>"
            ],
            "text/plain": [
              "Country         China         India\n",
              "count       34.000000     34.000000\n",
              "mean     19410.647059  20350.117647\n",
              "std      13568.230790  10007.342579\n",
              "min       1527.000000   4211.000000\n",
              "25%       5512.750000  10637.750000\n",
              "50%      19945.000000  20235.000000\n",
              "75%      31568.500000  28699.500000\n",
              "max      42584.000000  36210.000000"
            ]
          },
          "execution_count": 23,
          "metadata": {},
          "output_type": "execute_result"
        }
      ],
      "source": [
        "### type your answer here\n",
        "df_CI.describe()\n"
      ]
    },
    {
      "cell_type": "markdown",
      "metadata": {
        "button": false,
        "new_sheet": false,
        "run_control": {
          "read_only": false
        }
      },
      "source": [
        "<details><summary>Click here for a sample python solution</summary>\n",
        "\n",
        "```python\n",
        "    #The correct answer is:\n",
        "    df_CI.describe()\n",
        "```\n",
        "\n",
        "</details>\n"
      ]
    },
    {
      "cell_type": "markdown",
      "metadata": {
        "button": false,
        "new_sheet": false,
        "run_control": {
          "read_only": false
        }
      },
      "source": [
        "Step 2: Plot data.\n"
      ]
    },
    {
      "cell_type": "code",
      "execution_count": 24,
      "metadata": {
        "button": false,
        "collapsed": false,
        "jupyter": {
          "outputs_hidden": false
        },
        "new_sheet": false,
        "run_control": {
          "read_only": false
        },
        "trusted": true
      },
      "outputs": [
        {
          "data": {
            "image/png": "[encoded data removed]",
            "text/plain": [
              "<Figure size 576x432 with 1 Axes>"
            ]
          },
          "metadata": {},
          "output_type": "display_data"
        }
      ],
      "source": [
        "### type your answer here\n",
        "df_CI.plot(kind='box',figsize=(8, 6))\n",
        "plt.title('Inmigrant from China and India to Canada')\n",
        "plt.ylabel('Number of Inmigrants')\n",
        "plt.show()\n"
      ]
    },
    {
      "cell_type": "markdown",
      "metadata": {
        "button": false,
        "new_sheet": false,
        "run_control": {
          "read_only": false
        }
      },
      "source": [
        "<details><summary>Click here for a sample python solution</summary>\n",
        "\n",
        "```python\n",
        "    #The correct answer is:\n",
        "    df_CI.plot(kind='box', figsize=(10, 7))\n",
        "\n",
        "    plt.title('Box plots of Immigrants from China and India (1980 - 2013)')\n",
        "    plt.ylabel('Number of Immigrants')\n",
        "\n",
        "    plt.show()\n",
        "\n",
        "```\n",
        "\n",
        "</details>\n"
      ]
    },
    {
      "cell_type": "markdown",
      "metadata": {
        "button": false,
        "new_sheet": false,
        "run_control": {
          "read_only": false
        }
      },
      "source": [
        "We can observe that, while both countries have around the same median immigrant population (\\~20,000),  China's immigrant population range is more spread out than India's. The maximum population from India for any year (36,210) is around 15% lower than the maximum population from China (42,584).\n"
      ]
    },
    {
      "cell_type": "markdown",
      "metadata": {
        "button": false,
        "new_sheet": false,
        "run_control": {
          "read_only": false
        }
      },
      "source": [
        "If you prefer to create horizontal box plots, you can pass the `vert` parameter in the **plot** function and assign it to *False*. You can also specify a different color in case you are not a big fan of the default red color.\n"
      ]
    },
    {
      "cell_type": "code",
      "execution_count": 25,
      "metadata": {
        "button": false,
        "collapsed": false,
        "jupyter": {
          "outputs_hidden": false
        },
        "new_sheet": false,
        "run_control": {
          "read_only": false
        },
        "trusted": true
      },
      "outputs": [
        {
          "data": {
            "image/png": "[encoded data removed]",
            "text/plain": [
              "<Figure size 720x504 with 1 Axes>"
            ]
          },
          "metadata": {},
          "output_type": "display_data"
        }
      ],
      "source": [
        "# horizontal box plots\n",
        "df_CI.plot(kind='box', figsize=(10, 7), color='blue', vert=False)\n",
        "\n",
        "plt.title('Box plots of Immigrants from China and India (1980 - 2013)')\n",
        "plt.xlabel('Number of Immigrants')\n",
        "\n",
        "plt.show()"
      ]
    },
    {
      "cell_type": "markdown",
      "metadata": {
        "button": false,
        "new_sheet": false,
        "run_control": {
          "read_only": false
        }
      },
      "source": [
        "**Subplots**\n",
        "\n",
        "Often times we might want to plot multiple plots within the same figure. For example, we might want to perform a side by side comparison of the box plot with the line plot of China and India's immigration.\n",
        "\n",
        "To visualize multiple plots together, we can create a **`figure`** (overall canvas) and divide it into **`subplots`**, each containing a plot. With **subplots**, we usually work with the **artist layer** instead of the **scripting layer**.\n",
        "\n",
        "Typical syntax is : <br>\n",
        "\n",
        "```python\n",
        "    fig = plt.figure() # create figure\n",
        "    ax = fig.add_subplot(nrows, ncols, plot_number) # create subplots\n",
        "```\n",
        "\n",
        "Where\n",
        "\n",
        "*   `nrows` and `ncols` are used to notionally split the figure into (`nrows` \\* `ncols`) sub-axes,\n",
        "*   `plot_number` is used to identify the particular subplot that this function is to create within the notional grid. `plot_number` starts at 1, increments across rows first and has a maximum of `nrows` \\* `ncols` as shown below.\n",
        "\n",
        "<img src=\"https://cf-courses-data.s3.us.cloud-object-storage.appdomain.cloud/IBMDeveloperSkillsNetwork-DV0101EN-SkillsNetwork/labs/Module%203/images/Mod3Fig5Subplots_V2.png\" width=500 align=\"center\">\n"
      ]
    },
    {
      "cell_type": "markdown",
      "metadata": {
        "button": false,
        "new_sheet": false,
        "run_control": {
          "read_only": false
        }
      },
      "source": [
        "We can then specify which subplot to place each plot by passing in the `ax` paramemter in `plot()` method as follows:\n"
      ]
    },
    {
      "cell_type": "code",
      "execution_count": 26,
      "metadata": {
        "button": false,
        "collapsed": false,
        "jupyter": {
          "outputs_hidden": false
        },
        "new_sheet": false,
        "run_control": {
          "read_only": false
        },
        "trusted": true
      },
      "outputs": [
        {
          "data": {
            "image/png": "[encoded data removed]",
            "text/plain": [
              "<Figure size 1440x432 with 2 Axes>"
            ]
          },
          "metadata": {},
          "output_type": "display_data"
        }
      ],
      "source": [
        "fig = plt.figure() # create figure\n",
        "\n",
        "ax0 = fig.add_subplot(1, 2, 1) # add subplot 1 (1 row, 2 columns, first plot)\n",
        "ax1 = fig.add_subplot(1, 2, 2) # add subplot 2 (1 row, 2 columns, second plot). See tip below**\n",
        "\n",
        "# Subplot 1: Box plot\n",
        "df_CI.plot(kind='box', color='blue', vert=False, figsize=(20, 6), ax=ax0) # add to subplot 1\n",
        "ax0.set_title('Box Plots of Immigrants from China and India (1980 - 2013)')\n",
        "ax0.set_xlabel('Number of Immigrants')\n",
        "ax0.set_ylabel('Countries')\n",
        "\n",
        "# Subplot 2: Line plot\n",
        "df_CI.plot(kind='line', figsize=(20, 6), ax=ax1) # add to subplot 2\n",
        "ax1.set_title ('Line Plots of Immigrants from China and India (1980 - 2013)')\n",
        "ax1.set_ylabel('Number of Immigrants')\n",
        "ax1.set_xlabel('Years')\n",
        "\n",
        "plt.show()"
      ]
    },
    {
      "cell_type": "markdown",
      "metadata": {
        "button": false,
        "new_sheet": false,
        "run_control": {
          "read_only": false
        }
      },
      "source": [
        "**Tip regarding subplot convention**\n",
        "\n",
        "In the case when `nrows`, `ncols`, and `plot_number` are all less than 10, a convenience exists such that a 3-digit number can be given instead, where the hundreds represent `nrows`, the tens represent `ncols` and the units represent `plot_number`. For instance,\n",
        "\n",
        "```python\n",
        "   subplot(211) == subplot(2, 1, 1) \n",
        "```\n",
        "\n",
        "produces a subaxes in a figure which represents the top plot (i.e. the first) in a 2 rows by 1 column notional grid (no grid actually exists, but conceptually this is how the returned subplot has been positioned).\n"
      ]
    },
    {
      "cell_type": "markdown",
      "metadata": {
        "button": false,
        "new_sheet": false,
        "run_control": {
          "read_only": false
        }
      },
      "source": [
        "Let's try something a little more advanced.\n",
        "\n",
        "Previously we identified the top 15 countries based on total immigration from 1980 - 2013.\n",
        "\n",
        "**Question:** Create a box plot to visualize the distribution of the top 15 countries (based on total immigration) grouped by the *decades* `1980s`, `1990s`, and `2000s`.\n"
      ]
    },
    {
      "cell_type": "markdown",
      "metadata": {
        "button": false,
        "new_sheet": false,
        "run_control": {
          "read_only": false
        }
      },
      "source": [
        "Step 1: Get the dataset. Get the top 15 countries based on Total immigrant population. Name the dataframe **df_top15**.\n"
      ]
    },
    {
      "cell_type": "code",
      "execution_count": 27,
      "metadata": {
        "button": false,
        "collapsed": false,
        "jupyter": {
          "outputs_hidden": false
        },
        "new_sheet": false,
        "run_control": {
          "read_only": false
        },
        "scrolled": true,
        "trusted": true
      },
      "outputs": [
        {
          "data": {
            "text/html": [
              "<div>\n",
              "<style scoped>\n",
              "    .dataframe tbody tr th:only-of-type {\n",
              "        vertical-align: middle;\n",
              "    }\n",
              "\n",
              "    .dataframe tbody tr th {\n",
              "        vertical-align: top;\n",
              "    }\n",
              "\n",
              "    .dataframe thead th {\n",
              "        text-align: right;\n",
              "    }\n",
              "</style>\n",
              "<table border=\"1\" class=\"dataframe\">\n",
              "  <thead>\n",
              "    <tr style=\"text-align: right;\">\n",
              "      <th></th>\n",
              "      <th>Continent</th>\n",
              "      <th>Region</th>\n",
              "      <th>DevName</th>\n",
              "      <th>1980</th>\n",
              "      <th>1981</th>\n",
              "      <th>1982</th>\n",
              "      <th>1983</th>\n",
              "      <th>1984</th>\n",
              "      <th>1985</th>\n",
              "      <th>1986</th>\n",
              "      <th>...</th>\n",
              "      <th>2005</th>\n",
              "      <th>2006</th>\n",
              "      <th>2007</th>\n",
              "      <th>2008</th>\n",
              "      <th>2009</th>\n",
              "      <th>2010</th>\n",
              "      <th>2011</th>\n",
              "      <th>2012</th>\n",
              "      <th>2013</th>\n",
              "      <th>Total</th>\n",
              "    </tr>\n",
              "    <tr>\n",
              "      <th>Country</th>\n",
              "      <th></th>\n",
              "      <th></th>\n",
              "      <th></th>\n",
              "      <th></th>\n",
              "      <th></th>\n",
              "      <th></th>\n",
              "      <th></th>\n",
              "      <th></th>\n",
              "      <th></th>\n",
              "      <th></th>\n",
              "      <th></th>\n",
              "      <th></th>\n",
              "      <th></th>\n",
              "      <th></th>\n",
              "      <th></th>\n",
              "      <th></th>\n",
              "      <th></th>\n",
              "      <th></th>\n",
              "      <th></th>\n",
              "      <th></th>\n",
              "      <th></th>\n",
              "    </tr>\n",
              "  </thead>\n",
              "  <tbody>\n",
              "    <tr>\n",
              "      <th>India</th>\n",
              "      <td>Asia</td>\n",
              "      <td>Southern Asia</td>\n",
              "      <td>Developing regions</td>\n",
              "      <td>8880</td>\n",
              "      <td>8670</td>\n",
              "      <td>8147</td>\n",
              "      <td>7338</td>\n",
              "      <td>5704</td>\n",
              "      <td>4211</td>\n",
              "      <td>7150</td>\n",
              "      <td>...</td>\n",
              "      <td>36210</td>\n",
              "      <td>33848</td>\n",
              "      <td>28742</td>\n",
              "      <td>28261</td>\n",
              "      <td>29456</td>\n",
              "      <td>34235</td>\n",
              "      <td>27509</td>\n",
              "      <td>30933</td>\n",
              "      <td>33087</td>\n",
              "      <td>691904</td>\n",
              "    </tr>\n",
              "    <tr>\n",
              "      <th>China</th>\n",
              "      <td>Asia</td>\n",
              "      <td>Eastern Asia</td>\n",
              "      <td>Developing regions</td>\n",
              "      <td>5123</td>\n",
              "      <td>6682</td>\n",
              "      <td>3308</td>\n",
              "      <td>1863</td>\n",
              "      <td>1527</td>\n",
              "      <td>1816</td>\n",
              "      <td>1960</td>\n",
              "      <td>...</td>\n",
              "      <td>42584</td>\n",
              "      <td>33518</td>\n",
              "      <td>27642</td>\n",
              "      <td>30037</td>\n",
              "      <td>29622</td>\n",
              "      <td>30391</td>\n",
              "      <td>28502</td>\n",
              "      <td>33024</td>\n",
              "      <td>34129</td>\n",
              "      <td>659962</td>\n",
              "    </tr>\n",
              "    <tr>\n",
              "      <th>United Kingdom of Great Britain and Northern Ireland</th>\n",
              "      <td>Europe</td>\n",
              "      <td>Northern Europe</td>\n",
              "      <td>Developed regions</td>\n",
              "      <td>22045</td>\n",
              "      <td>24796</td>\n",
              "      <td>20620</td>\n",
              "      <td>10015</td>\n",
              "      <td>10170</td>\n",
              "      <td>9564</td>\n",
              "      <td>9470</td>\n",
              "      <td>...</td>\n",
              "      <td>7258</td>\n",
              "      <td>7140</td>\n",
              "      <td>8216</td>\n",
              "      <td>8979</td>\n",
              "      <td>8876</td>\n",
              "      <td>8724</td>\n",
              "      <td>6204</td>\n",
              "      <td>6195</td>\n",
              "      <td>5827</td>\n",
              "      <td>551500</td>\n",
              "    </tr>\n",
              "    <tr>\n",
              "      <th>Philippines</th>\n",
              "      <td>Asia</td>\n",
              "      <td>South-Eastern Asia</td>\n",
              "      <td>Developing regions</td>\n",
              "      <td>6051</td>\n",
              "      <td>5921</td>\n",
              "      <td>5249</td>\n",
              "      <td>4562</td>\n",
              "      <td>3801</td>\n",
              "      <td>3150</td>\n",
              "      <td>4166</td>\n",
              "      <td>...</td>\n",
              "      <td>18139</td>\n",
              "      <td>18400</td>\n",
              "      <td>19837</td>\n",
              "      <td>24887</td>\n",
              "      <td>28573</td>\n",
              "      <td>38617</td>\n",
              "      <td>36765</td>\n",
              "      <td>34315</td>\n",
              "      <td>29544</td>\n",
              "      <td>511391</td>\n",
              "    </tr>\n",
              "    <tr>\n",
              "      <th>Pakistan</th>\n",
              "      <td>Asia</td>\n",
              "      <td>Southern Asia</td>\n",
              "      <td>Developing regions</td>\n",
              "      <td>978</td>\n",
              "      <td>972</td>\n",
              "      <td>1201</td>\n",
              "      <td>900</td>\n",
              "      <td>668</td>\n",
              "      <td>514</td>\n",
              "      <td>691</td>\n",
              "      <td>...</td>\n",
              "      <td>14314</td>\n",
              "      <td>13127</td>\n",
              "      <td>10124</td>\n",
              "      <td>8994</td>\n",
              "      <td>7217</td>\n",
              "      <td>6811</td>\n",
              "      <td>7468</td>\n",
              "      <td>11227</td>\n",
              "      <td>12603</td>\n",
              "      <td>241600</td>\n",
              "    </tr>\n",
              "    <tr>\n",
              "      <th>United States of America</th>\n",
              "      <td>Northern America</td>\n",
              "      <td>Northern America</td>\n",
              "      <td>Developed regions</td>\n",
              "      <td>9378</td>\n",
              "      <td>10030</td>\n",
              "      <td>9074</td>\n",
              "      <td>7100</td>\n",
              "      <td>6661</td>\n",
              "      <td>6543</td>\n",
              "      <td>7074</td>\n",
              "      <td>...</td>\n",
              "      <td>8394</td>\n",
              "      <td>9613</td>\n",
              "      <td>9463</td>\n",
              "      <td>10190</td>\n",
              "      <td>8995</td>\n",
              "      <td>8142</td>\n",
              "      <td>7676</td>\n",
              "      <td>7891</td>\n",
              "      <td>8501</td>\n",
              "      <td>241122</td>\n",
              "    </tr>\n",
              "    <tr>\n",
              "      <th>Iran (Islamic Republic of)</th>\n",
              "      <td>Asia</td>\n",
              "      <td>Southern Asia</td>\n",
              "      <td>Developing regions</td>\n",
              "      <td>1172</td>\n",
              "      <td>1429</td>\n",
              "      <td>1822</td>\n",
              "      <td>1592</td>\n",
              "      <td>1977</td>\n",
              "      <td>1648</td>\n",
              "      <td>1794</td>\n",
              "      <td>...</td>\n",
              "      <td>5837</td>\n",
              "      <td>7480</td>\n",
              "      <td>6974</td>\n",
              "      <td>6475</td>\n",
              "      <td>6580</td>\n",
              "      <td>7477</td>\n",
              "      <td>7479</td>\n",
              "      <td>7534</td>\n",
              "      <td>11291</td>\n",
              "      <td>175923</td>\n",
              "    </tr>\n",
              "    <tr>\n",
              "      <th>Sri Lanka</th>\n",
              "      <td>Asia</td>\n",
              "      <td>Southern Asia</td>\n",
              "      <td>Developing regions</td>\n",
              "      <td>185</td>\n",
              "      <td>371</td>\n",
              "      <td>290</td>\n",
              "      <td>197</td>\n",
              "      <td>1086</td>\n",
              "      <td>845</td>\n",
              "      <td>1838</td>\n",
              "      <td>...</td>\n",
              "      <td>4930</td>\n",
              "      <td>4714</td>\n",
              "      <td>4123</td>\n",
              "      <td>4756</td>\n",
              "      <td>4547</td>\n",
              "      <td>4422</td>\n",
              "      <td>3309</td>\n",
              "      <td>3338</td>\n",
              "      <td>2394</td>\n",
              "      <td>148358</td>\n",
              "    </tr>\n",
              "    <tr>\n",
              "      <th>Republic of Korea</th>\n",
              "      <td>Asia</td>\n",
              "      <td>Eastern Asia</td>\n",
              "      <td>Developing regions</td>\n",
              "      <td>1011</td>\n",
              "      <td>1456</td>\n",
              "      <td>1572</td>\n",
              "      <td>1081</td>\n",
              "      <td>847</td>\n",
              "      <td>962</td>\n",
              "      <td>1208</td>\n",
              "      <td>...</td>\n",
              "      <td>5832</td>\n",
              "      <td>6215</td>\n",
              "      <td>5920</td>\n",
              "      <td>7294</td>\n",
              "      <td>5874</td>\n",
              "      <td>5537</td>\n",
              "      <td>4588</td>\n",
              "      <td>5316</td>\n",
              "      <td>4509</td>\n",
              "      <td>142581</td>\n",
              "    </tr>\n",
              "    <tr>\n",
              "      <th>Poland</th>\n",
              "      <td>Europe</td>\n",
              "      <td>Eastern Europe</td>\n",
              "      <td>Developed regions</td>\n",
              "      <td>863</td>\n",
              "      <td>2930</td>\n",
              "      <td>5881</td>\n",
              "      <td>4546</td>\n",
              "      <td>3588</td>\n",
              "      <td>2819</td>\n",
              "      <td>4808</td>\n",
              "      <td>...</td>\n",
              "      <td>1405</td>\n",
              "      <td>1263</td>\n",
              "      <td>1235</td>\n",
              "      <td>1267</td>\n",
              "      <td>1013</td>\n",
              "      <td>795</td>\n",
              "      <td>720</td>\n",
              "      <td>779</td>\n",
              "      <td>852</td>\n",
              "      <td>139241</td>\n",
              "    </tr>\n",
              "    <tr>\n",
              "      <th>Lebanon</th>\n",
              "      <td>Asia</td>\n",
              "      <td>Western Asia</td>\n",
              "      <td>Developing regions</td>\n",
              "      <td>1409</td>\n",
              "      <td>1119</td>\n",
              "      <td>1159</td>\n",
              "      <td>789</td>\n",
              "      <td>1253</td>\n",
              "      <td>1683</td>\n",
              "      <td>2576</td>\n",
              "      <td>...</td>\n",
              "      <td>3709</td>\n",
              "      <td>3802</td>\n",
              "      <td>3467</td>\n",
              "      <td>3566</td>\n",
              "      <td>3077</td>\n",
              "      <td>3432</td>\n",
              "      <td>3072</td>\n",
              "      <td>1614</td>\n",
              "      <td>2172</td>\n",
              "      <td>115359</td>\n",
              "    </tr>\n",
              "    <tr>\n",
              "      <th>France</th>\n",
              "      <td>Europe</td>\n",
              "      <td>Western Europe</td>\n",
              "      <td>Developed regions</td>\n",
              "      <td>1729</td>\n",
              "      <td>2027</td>\n",
              "      <td>2219</td>\n",
              "      <td>1490</td>\n",
              "      <td>1169</td>\n",
              "      <td>1177</td>\n",
              "      <td>1298</td>\n",
              "      <td>...</td>\n",
              "      <td>4429</td>\n",
              "      <td>4002</td>\n",
              "      <td>4290</td>\n",
              "      <td>4532</td>\n",
              "      <td>5051</td>\n",
              "      <td>4646</td>\n",
              "      <td>4080</td>\n",
              "      <td>6280</td>\n",
              "      <td>5623</td>\n",
              "      <td>109091</td>\n",
              "    </tr>\n",
              "    <tr>\n",
              "      <th>Jamaica</th>\n",
              "      <td>Latin America and the Caribbean</td>\n",
              "      <td>Caribbean</td>\n",
              "      <td>Developing regions</td>\n",
              "      <td>3198</td>\n",
              "      <td>2634</td>\n",
              "      <td>2661</td>\n",
              "      <td>2455</td>\n",
              "      <td>2508</td>\n",
              "      <td>2938</td>\n",
              "      <td>4649</td>\n",
              "      <td>...</td>\n",
              "      <td>1945</td>\n",
              "      <td>1722</td>\n",
              "      <td>2141</td>\n",
              "      <td>2334</td>\n",
              "      <td>2456</td>\n",
              "      <td>2321</td>\n",
              "      <td>2059</td>\n",
              "      <td>2182</td>\n",
              "      <td>2479</td>\n",
              "      <td>106431</td>\n",
              "    </tr>\n",
              "    <tr>\n",
              "      <th>Viet Nam</th>\n",
              "      <td>Asia</td>\n",
              "      <td>South-Eastern Asia</td>\n",
              "      <td>Developing regions</td>\n",
              "      <td>1191</td>\n",
              "      <td>1829</td>\n",
              "      <td>2162</td>\n",
              "      <td>3404</td>\n",
              "      <td>7583</td>\n",
              "      <td>5907</td>\n",
              "      <td>2741</td>\n",
              "      <td>...</td>\n",
              "      <td>1852</td>\n",
              "      <td>3153</td>\n",
              "      <td>2574</td>\n",
              "      <td>1784</td>\n",
              "      <td>2171</td>\n",
              "      <td>1942</td>\n",
              "      <td>1723</td>\n",
              "      <td>1731</td>\n",
              "      <td>2112</td>\n",
              "      <td>97146</td>\n",
              "    </tr>\n",
              "    <tr>\n",
              "      <th>Romania</th>\n",
              "      <td>Europe</td>\n",
              "      <td>Eastern Europe</td>\n",
              "      <td>Developed regions</td>\n",
              "      <td>375</td>\n",
              "      <td>438</td>\n",
              "      <td>583</td>\n",
              "      <td>543</td>\n",
              "      <td>524</td>\n",
              "      <td>604</td>\n",
              "      <td>656</td>\n",
              "      <td>...</td>\n",
              "      <td>5048</td>\n",
              "      <td>4468</td>\n",
              "      <td>3834</td>\n",
              "      <td>2837</td>\n",
              "      <td>2076</td>\n",
              "      <td>1922</td>\n",
              "      <td>1776</td>\n",
              "      <td>1588</td>\n",
              "      <td>1512</td>\n",
              "      <td>93585</td>\n",
              "    </tr>\n",
              "  </tbody>\n",
              "</table>\n",
              "<p>15 rows × 38 columns</p>\n",
              "</div>"
            ],
            "text/plain": [
              "                                                                          Continent  \\\n",
              "Country                                                                               \n",
              "India                                                                          Asia   \n",
              "China                                                                          Asia   \n",
              "United Kingdom of Great Britain and Northern Ir...                           Europe   \n",
              "Philippines                                                                    Asia   \n",
              "Pakistan                                                                       Asia   \n",
              "United States of America                                           Northern America   \n",
              "Iran (Islamic Republic of)                                                     Asia   \n",
              "Sri Lanka                                                                      Asia   \n",
              "Republic of Korea                                                              Asia   \n",
              "Poland                                                                       Europe   \n",
              "Lebanon                                                                        Asia   \n",
              "France                                                                       Europe   \n",
              "Jamaica                                             Latin America and the Caribbean   \n",
              "Viet Nam                                                                       Asia   \n",
              "Romania                                                                      Europe   \n",
              "\n",
              "                                                                Region  \\\n",
              "Country                                                                  \n",
              "India                                                    Southern Asia   \n",
              "China                                                     Eastern Asia   \n",
              "United Kingdom of Great Britain and Northern Ir...     Northern Europe   \n",
              "Philippines                                         South-Eastern Asia   \n",
              "Pakistan                                                 Southern Asia   \n",
              "United States of America                              Northern America   \n",
              "Iran (Islamic Republic of)                               Southern Asia   \n",
              "Sri Lanka                                                Southern Asia   \n",
              "Republic of Korea                                         Eastern Asia   \n",
              "Poland                                                  Eastern Europe   \n",
              "Lebanon                                                   Western Asia   \n",
              "France                                                  Western Europe   \n",
              "Jamaica                                                      Caribbean   \n",
              "Viet Nam                                            South-Eastern Asia   \n",
              "Romania                                                 Eastern Europe   \n",
              "\n",
              "                                                               DevName   1980  \\\n",
              "Country                                                                         \n",
              "India                                               Developing regions   8880   \n",
              "China                                               Developing regions   5123   \n",
              "United Kingdom of Great Britain and Northern Ir...   Developed regions  22045   \n",
              "Philippines                                         Developing regions   6051   \n",
              "Pakistan                                            Developing regions    978   \n",
              "United States of America                             Developed regions   9378   \n",
              "Iran (Islamic Republic of)                          Developing regions   1172   \n",
              "Sri Lanka                                           Developing regions    185   \n",
              "Republic of Korea                                   Developing regions   1011   \n",
              "Poland                                               Developed regions    863   \n",
              "Lebanon                                             Developing regions   1409   \n",
              "France                                               Developed regions   1729   \n",
              "Jamaica                                             Developing regions   3198   \n",
              "Viet Nam                                            Developing regions   1191   \n",
              "Romania                                              Developed regions    375   \n",
              "\n",
              "                                                     1981   1982   1983  \\\n",
              "Country                                                                   \n",
              "India                                                8670   8147   7338   \n",
              "China                                                6682   3308   1863   \n",
              "United Kingdom of Great Britain and Northern Ir...  24796  20620  10015   \n",
              "Philippines                                          5921   5249   4562   \n",
              "Pakistan                                              972   1201    900   \n",
              "United States of America                            10030   9074   7100   \n",
              "Iran (Islamic Republic of)                           1429   1822   1592   \n",
              "Sri Lanka                                             371    290    197   \n",
              "Republic of Korea                                    1456   1572   1081   \n",
              "Poland                                               2930   5881   4546   \n",
              "Lebanon                                              1119   1159    789   \n",
              "France                                               2027   2219   1490   \n",
              "Jamaica                                              2634   2661   2455   \n",
              "Viet Nam                                             1829   2162   3404   \n",
              "Romania                                               438    583    543   \n",
              "\n",
              "                                                     1984  1985  1986  ...  \\\n",
              "Country                                                                ...   \n",
              "India                                                5704  4211  7150  ...   \n",
              "China                                                1527  1816  1960  ...   \n",
              "United Kingdom of Great Britain and Northern Ir...  10170  9564  9470  ...   \n",
              "Philippines                                          3801  3150  4166  ...   \n",
              "Pakistan                                              668   514   691  ...   \n",
              "United States of America                             6661  6543  7074  ...   \n",
              "Iran (Islamic Republic of)                           1977  1648  1794  ...   \n",
              "Sri Lanka                                            1086   845  1838  ...   \n",
              "Republic of Korea                                     847   962  1208  ...   \n",
              "Poland                                               3588  2819  4808  ...   \n",
              "Lebanon                                              1253  1683  2576  ...   \n",
              "France                                               1169  1177  1298  ...   \n",
              "Jamaica                                              2508  2938  4649  ...   \n",
              "Viet Nam                                             7583  5907  2741  ...   \n",
              "Romania                                               524   604   656  ...   \n",
              "\n",
              "                                                     2005   2006   2007  \\\n",
              "Country                                                                   \n",
              "India                                               36210  33848  28742   \n",
              "China                                               42584  33518  27642   \n",
              "United Kingdom of Great Britain and Northern Ir...   7258   7140   8216   \n",
              "Philippines                                         18139  18400  19837   \n",
              "Pakistan                                            14314  13127  10124   \n",
              "United States of America                             8394   9613   9463   \n",
              "Iran (Islamic Republic of)                           5837   7480   6974   \n",
              "Sri Lanka                                            4930   4714   4123   \n",
              "Republic of Korea                                    5832   6215   5920   \n",
              "Poland                                               1405   1263   1235   \n",
              "Lebanon                                              3709   3802   3467   \n",
              "France                                               4429   4002   4290   \n",
              "Jamaica                                              1945   1722   2141   \n",
              "Viet Nam                                             1852   3153   2574   \n",
              "Romania                                              5048   4468   3834   \n",
              "\n",
              "                                                     2008   2009   2010  \\\n",
              "Country                                                                   \n",
              "India                                               28261  29456  34235   \n",
              "China                                               30037  29622  30391   \n",
              "United Kingdom of Great Britain and Northern Ir...   8979   8876   8724   \n",
              "Philippines                                         24887  28573  38617   \n",
              "Pakistan                                             8994   7217   6811   \n",
              "United States of America                            10190   8995   8142   \n",
              "Iran (Islamic Republic of)                           6475   6580   7477   \n",
              "Sri Lanka                                            4756   4547   4422   \n",
              "Republic of Korea                                    7294   5874   5537   \n",
              "Poland                                               1267   1013    795   \n",
              "Lebanon                                              3566   3077   3432   \n",
              "France                                               4532   5051   4646   \n",
              "Jamaica                                              2334   2456   2321   \n",
              "Viet Nam                                             1784   2171   1942   \n",
              "Romania                                              2837   2076   1922   \n",
              "\n",
              "                                                     2011   2012   2013  \\\n",
              "Country                                                                   \n",
              "India                                               27509  30933  33087   \n",
              "China                                               28502  33024  34129   \n",
              "United Kingdom of Great Britain and Northern Ir...   6204   6195   5827   \n",
              "Philippines                                         36765  34315  29544   \n",
              "Pakistan                                             7468  11227  12603   \n",
              "United States of America                             7676   7891   8501   \n",
              "Iran (Islamic Republic of)                           7479   7534  11291   \n",
              "Sri Lanka                                            3309   3338   2394   \n",
              "Republic of Korea                                    4588   5316   4509   \n",
              "Poland                                                720    779    852   \n",
              "Lebanon                                              3072   1614   2172   \n",
              "France                                               4080   6280   5623   \n",
              "Jamaica                                              2059   2182   2479   \n",
              "Viet Nam                                             1723   1731   2112   \n",
              "Romania                                              1776   1588   1512   \n",
              "\n",
              "                                                     Total  \n",
              "Country                                                     \n",
              "India                                               691904  \n",
              "China                                               659962  \n",
              "United Kingdom of Great Britain and Northern Ir...  551500  \n",
              "Philippines                                         511391  \n",
              "Pakistan                                            241600  \n",
              "United States of America                            241122  \n",
              "Iran (Islamic Republic of)                          175923  \n",
              "Sri Lanka                                           148358  \n",
              "Republic of Korea                                   142581  \n",
              "Poland                                              139241  \n",
              "Lebanon                                             115359  \n",
              "France                                              109091  \n",
              "Jamaica                                             106431  \n",
              "Viet Nam                                             97146  \n",
              "Romania                                              93585  \n",
              "\n",
              "[15 rows x 38 columns]"
            ]
          },
          "execution_count": 27,
          "metadata": {},
          "output_type": "execute_result"
        }
      ],
      "source": [
        "### type your answer here\n",
        "\n",
        "# df_top15 = ...\n",
        "df_top15 = df_can.sort_values(['Total'], ascending=False, axis=0).head(15)\n",
        "df_top15"
      ]
    },
    {
      "cell_type": "markdown",
      "metadata": {
        "button": false,
        "new_sheet": false,
        "run_control": {
          "read_only": false
        }
      },
      "source": [
        "<details><summary>Click here for a sample python solution</summary>\n",
        "\n",
        "```python\n",
        "    #The correct answer is:\n",
        "    df_top15 = df_can.sort_values(['Total'], ascending=False, axis=0).head(15)\n",
        "    df_top15\n",
        "\n",
        "```\n",
        "\n",
        "</details>\n"
      ]
    },
    {
      "cell_type": "markdown",
      "metadata": {
        "button": false,
        "new_sheet": false,
        "run_control": {
          "read_only": false
        }
      },
      "source": [
        "Step 2: Create a new dataframe which contains the aggregate for each decade. One way to do that:\n",
        "\n",
        "1.  Create a list of all years in decades 80's, 90's, and 00's.\n",
        "2.  Slice the original dataframe df_can to create a series for each decade and sum across all years for each country.\n",
        "3.  Merge the three series into a new data frame. Call your dataframe **new_df**.\n"
      ]
    },
    {
      "cell_type": "code",
      "execution_count": 28,
      "metadata": {
        "button": false,
        "collapsed": false,
        "jupyter": {
          "outputs_hidden": false
        },
        "new_sheet": false,
        "run_control": {
          "read_only": false
        },
        "scrolled": true,
        "trusted": true
      },
      "outputs": [
        {
          "data": {
            "text/html": [
              "<div>\n",
              "<style scoped>\n",
              "    .dataframe tbody tr th:only-of-type {\n",
              "        vertical-align: middle;\n",
              "    }\n",
              "\n",
              "    .dataframe tbody tr th {\n",
              "        vertical-align: top;\n",
              "    }\n",
              "\n",
              "    .dataframe thead th {\n",
              "        text-align: right;\n",
              "    }\n",
              "</style>\n",
              "<table border=\"1\" class=\"dataframe\">\n",
              "  <thead>\n",
              "    <tr style=\"text-align: right;\">\n",
              "      <th></th>\n",
              "      <th>1980s</th>\n",
              "      <th>1990s</th>\n",
              "      <th>2000s</th>\n",
              "    </tr>\n",
              "    <tr>\n",
              "      <th>Country</th>\n",
              "      <th></th>\n",
              "      <th></th>\n",
              "      <th></th>\n",
              "    </tr>\n",
              "  </thead>\n",
              "  <tbody>\n",
              "    <tr>\n",
              "      <th>India</th>\n",
              "      <td>82154</td>\n",
              "      <td>180395</td>\n",
              "      <td>303591</td>\n",
              "    </tr>\n",
              "    <tr>\n",
              "      <th>China</th>\n",
              "      <td>32003</td>\n",
              "      <td>161528</td>\n",
              "      <td>340385</td>\n",
              "    </tr>\n",
              "    <tr>\n",
              "      <th>United Kingdom of Great Britain and Northern Ireland</th>\n",
              "      <td>179171</td>\n",
              "      <td>261966</td>\n",
              "      <td>83413</td>\n",
              "    </tr>\n",
              "    <tr>\n",
              "      <th>Philippines</th>\n",
              "      <td>60764</td>\n",
              "      <td>138482</td>\n",
              "      <td>172904</td>\n",
              "    </tr>\n",
              "    <tr>\n",
              "      <th>Pakistan</th>\n",
              "      <td>10591</td>\n",
              "      <td>65302</td>\n",
              "      <td>127598</td>\n",
              "    </tr>\n",
              "  </tbody>\n",
              "</table>\n",
              "</div>"
            ],
            "text/plain": [
              "                                                     1980s   1990s   2000s\n",
              "Country                                                                   \n",
              "India                                                82154  180395  303591\n",
              "China                                                32003  161528  340385\n",
              "United Kingdom of Great Britain and Northern Ir...  179171  261966   83413\n",
              "Philippines                                          60764  138482  172904\n",
              "Pakistan                                             10591   65302  127598"
            ]
          },
          "execution_count": 28,
          "metadata": {},
          "output_type": "execute_result"
        }
      ],
      "source": [
        "### type your answer here\n",
        "years_80s = list(map(str, range(1980,1990)))\n",
        "years_90s = list(map(str, range(1990,2000)))\n",
        "years_00s = list(map(str, range(2000,2010)))\n",
        "\n",
        "df_80s = df_top15.loc[:,years_80s].sum(axis=1)\n",
        "df_90s = df_top15.loc[:,years_90s].sum(axis=1)\n",
        "df_00s = df_top15.loc[:,years_00s].sum(axis=1)\n",
        "\n",
        "new_df = pd.DataFrame({'1980s':df_80s,'1990s':df_90s,'2000s':df_00s})\n",
        "new_df.head()"
      ]
    },
    {
      "cell_type": "markdown",
      "metadata": {
        "button": false,
        "new_sheet": false,
        "run_control": {
          "read_only": false
        }
      },
      "source": [
        "<details><summary>Click here for a sample python solution</summary>\n",
        "\n",
        "```python\n",
        "    #The correct answer is:\n",
        "    \n",
        "    # create a list of all years in decades 80's, 90's, and 00's\n",
        "    years_80s = list(map(str, range(1980, 1990))) \n",
        "    years_90s = list(map(str, range(1990, 2000))) \n",
        "    years_00s = list(map(str, range(2000, 2010))) \n",
        "\n",
        "    # slice the original dataframe df_can to create a series for each decade\n",
        "    df_80s = df_top15.loc[:, years_80s].sum(axis=1) \n",
        "    df_90s = df_top15.loc[:, years_90s].sum(axis=1) \n",
        "    df_00s = df_top15.loc[:, years_00s].sum(axis=1)\n",
        "\n",
        "    # merge the three series into a new data frame\n",
        "    new_df = pd.DataFrame({'1980s': df_80s, '1990s': df_90s, '2000s':df_00s}) \n",
        "\n",
        "    # display dataframe\n",
        "    new_df.head()\n",
        "\n",
        "\n",
        "```\n",
        "\n",
        "</details>\n"
      ]
    },
    {
      "cell_type": "markdown",
      "metadata": {
        "button": false,
        "new_sheet": false,
        "run_control": {
          "read_only": false
        }
      },
      "source": [
        "Let's learn more about the statistics associated with the dataframe using the `describe()` method.\n"
      ]
    },
    {
      "cell_type": "code",
      "execution_count": 63,
      "metadata": {
        "button": false,
        "collapsed": false,
        "jupyter": {
          "outputs_hidden": false
        },
        "new_sheet": false,
        "run_control": {
          "read_only": false
        },
        "scrolled": true,
        "trusted": true
      },
      "outputs": [
        {
          "data": {
            "text/html": [
              "<div>\n",
              "<style scoped>\n",
              "    .dataframe tbody tr th:only-of-type {\n",
              "        vertical-align: middle;\n",
              "    }\n",
              "\n",
              "    .dataframe tbody tr th {\n",
              "        vertical-align: top;\n",
              "    }\n",
              "\n",
              "    .dataframe thead th {\n",
              "        text-align: right;\n",
              "    }\n",
              "</style>\n",
              "<table border=\"1\" class=\"dataframe\">\n",
              "  <thead>\n",
              "    <tr style=\"text-align: right;\">\n",
              "      <th></th>\n",
              "      <th>1980s</th>\n",
              "      <th>1990s</th>\n",
              "      <th>2000s</th>\n",
              "    </tr>\n",
              "  </thead>\n",
              "  <tbody>\n",
              "    <tr>\n",
              "      <th>count</th>\n",
              "      <td>15.000000</td>\n",
              "      <td>15.000000</td>\n",
              "      <td>15.000000</td>\n",
              "    </tr>\n",
              "    <tr>\n",
              "      <th>mean</th>\n",
              "      <td>44418.333333</td>\n",
              "      <td>85594.666667</td>\n",
              "      <td>97471.533333</td>\n",
              "    </tr>\n",
              "    <tr>\n",
              "      <th>std</th>\n",
              "      <td>44190.676455</td>\n",
              "      <td>68237.560246</td>\n",
              "      <td>100583.204205</td>\n",
              "    </tr>\n",
              "    <tr>\n",
              "      <th>min</th>\n",
              "      <td>7613.000000</td>\n",
              "      <td>30028.000000</td>\n",
              "      <td>13629.000000</td>\n",
              "    </tr>\n",
              "    <tr>\n",
              "      <th>25%</th>\n",
              "      <td>16698.000000</td>\n",
              "      <td>39259.000000</td>\n",
              "      <td>36101.500000</td>\n",
              "    </tr>\n",
              "    <tr>\n",
              "      <th>50%</th>\n",
              "      <td>30638.000000</td>\n",
              "      <td>56915.000000</td>\n",
              "      <td>65794.000000</td>\n",
              "    </tr>\n",
              "    <tr>\n",
              "      <th>75%</th>\n",
              "      <td>59183.000000</td>\n",
              "      <td>104451.500000</td>\n",
              "      <td>105505.500000</td>\n",
              "    </tr>\n",
              "    <tr>\n",
              "      <th>max</th>\n",
              "      <td>179171.000000</td>\n",
              "      <td>261966.000000</td>\n",
              "      <td>340385.000000</td>\n",
              "    </tr>\n",
              "  </tbody>\n",
              "</table>\n",
              "</div>"
            ],
            "text/plain": [
              "               1980s          1990s          2000s\n",
              "count      15.000000      15.000000      15.000000\n",
              "mean    44418.333333   85594.666667   97471.533333\n",
              "std     44190.676455   68237.560246  100583.204205\n",
              "min      7613.000000   30028.000000   13629.000000\n",
              "25%     16698.000000   39259.000000   36101.500000\n",
              "50%     30638.000000   56915.000000   65794.000000\n",
              "75%     59183.000000  104451.500000  105505.500000\n",
              "max    179171.000000  261966.000000  340385.000000"
            ]
          },
          "execution_count": 63,
          "metadata": {},
          "output_type": "execute_result"
        }
      ],
      "source": [
        "### type your answer here\n",
        "new_df.describe()"
      ]
    },
    {
      "cell_type": "markdown",
      "metadata": {
        "button": false,
        "new_sheet": false,
        "run_control": {
          "read_only": false
        }
      },
      "source": [
        "<details><summary>Click here for a sample python solution</summary>\n",
        "\n",
        "```python\n",
        "    #The correct answer is:    \n",
        "    new_df.describe()\n",
        "```\n",
        "\n",
        "</details>\n"
      ]
    },
    {
      "cell_type": "markdown",
      "metadata": {
        "button": false,
        "new_sheet": false,
        "run_control": {
          "read_only": false
        }
      },
      "source": [
        "Step 3: Plot the box plots.\n"
      ]
    },
    {
      "cell_type": "code",
      "execution_count": 29,
      "metadata": {
        "button": false,
        "collapsed": false,
        "jupyter": {
          "outputs_hidden": false
        },
        "new_sheet": false,
        "run_control": {
          "read_only": false
        },
        "trusted": true
      },
      "outputs": [
        {
          "data": {
            "image/png": "[encoded data removed]",
            "text/plain": [
              "<Figure size 432x288 with 1 Axes>"
            ]
          },
          "metadata": {},
          "output_type": "display_data"
        }
      ],
      "source": [
        "### type your answer here\n",
        "new_df.plot(kind='box')\n",
        "plt.title('top 15 countries for decades 80, 90, 2000')\n",
        "plt.show()\n",
        "\n"
      ]
    },
    {
      "cell_type": "markdown",
      "metadata": {
        "button": false,
        "new_sheet": false,
        "run_control": {
          "read_only": false
        }
      },
      "source": [
        "<details><summary>Click here for a sample python solution</summary>\n",
        "\n",
        "```python\n",
        "    #The correct answer is:    \n",
        "    new_df.plot(kind='box', figsize=(10, 6))\n",
        "\n",
        "    plt.title('Immigration from top 15 countries for decades 80s, 90s and 2000s')\n",
        "\n",
        "    plt.show()\n",
        "\n",
        "```\n",
        "\n",
        "</details>\n"
      ]
    },
    {
      "cell_type": "markdown",
      "metadata": {
        "button": false,
        "new_sheet": false,
        "run_control": {
          "read_only": false
        }
      },
      "source": [
        "Note how the box plot differs from the summary table created. The box plot scans the data and identifies the outliers. In order to be an outlier, the data value must be:<br>\n",
        "\n",
        "*   larger than Q3 by at least 1.5 times the interquartile range (IQR), or,\n",
        "*   smaller than Q1 by at least 1.5 times the IQR.\n",
        "\n",
        "Let's look at decade 2000s as an example: <br>\n",
        "\n",
        "*   Q1 (25%) = 36,101.5 <br>\n",
        "*   Q3 (75%) = 105,505.5 <br>\n",
        "*   IQR = Q3 - Q1 = 69,404 <br>\n",
        "\n",
        "Using the definition of outlier, any value that is greater than Q3 by 1.5 times IQR will be flagged as outlier.\n",
        "\n",
        "Outlier > 105,505.5 + (1.5 \\* 69,404) <br>\n",
        "Outlier > 209,611.5\n"
      ]
    },
    {
      "cell_type": "code",
      "execution_count": 67,
      "metadata": {
        "button": false,
        "collapsed": false,
        "jupyter": {
          "outputs_hidden": false
        },
        "new_sheet": false,
        "run_control": {
          "read_only": false
        },
        "scrolled": true,
        "trusted": true
      },
      "outputs": [
        {
          "data": {
            "text/html": [
              "<div>\n",
              "<style scoped>\n",
              "    .dataframe tbody tr th:only-of-type {\n",
              "        vertical-align: middle;\n",
              "    }\n",
              "\n",
              "    .dataframe tbody tr th {\n",
              "        vertical-align: top;\n",
              "    }\n",
              "\n",
              "    .dataframe thead th {\n",
              "        text-align: right;\n",
              "    }\n",
              "</style>\n",
              "<table border=\"1\" class=\"dataframe\">\n",
              "  <thead>\n",
              "    <tr style=\"text-align: right;\">\n",
              "      <th></th>\n",
              "      <th>level_0</th>\n",
              "      <th>index</th>\n",
              "      <th>Country</th>\n",
              "      <th>1980s</th>\n",
              "      <th>1990s</th>\n",
              "      <th>2000s</th>\n",
              "    </tr>\n",
              "  </thead>\n",
              "  <tbody>\n",
              "    <tr>\n",
              "      <th>0</th>\n",
              "      <td>0</td>\n",
              "      <td>0</td>\n",
              "      <td>India</td>\n",
              "      <td>82154</td>\n",
              "      <td>180395</td>\n",
              "      <td>303591</td>\n",
              "    </tr>\n",
              "    <tr>\n",
              "      <th>1</th>\n",
              "      <td>1</td>\n",
              "      <td>1</td>\n",
              "      <td>China</td>\n",
              "      <td>32003</td>\n",
              "      <td>161528</td>\n",
              "      <td>340385</td>\n",
              "    </tr>\n",
              "  </tbody>\n",
              "</table>\n",
              "</div>"
            ],
            "text/plain": [
              "   level_0  index Country  1980s   1990s   2000s\n",
              "0        0      0   India  82154  180395  303591\n",
              "1        1      1   China  32003  161528  340385"
            ]
          },
          "execution_count": 67,
          "metadata": {},
          "output_type": "execute_result"
        }
      ],
      "source": [
        "# let's check how many entries fall above the outlier threshold \n",
        "new_df = new_df.reset_index()\n",
        "new_df[new_df['2000s']> 209611.5]"
      ]
    },
    {
      "cell_type": "markdown",
      "metadata": {},
      "source": [
        "<details><summary>Click here for a sample python solution</summary>\n",
        "\n",
        "```python\n",
        "    #The correct answer is:    \n",
        "    new_df=new_df.reset_index()\n",
        "    new_df[new_df['2000s']> 209611.5]\n",
        "\n",
        "```\n",
        "\n",
        "</details>\n"
      ]
    },
    {
      "cell_type": "markdown",
      "metadata": {},
      "source": [
        "<!-- The correct answer is:\n",
        "new_df[new_df['2000s']> 209611.5]\n",
        "-->\n"
      ]
    },
    {
      "cell_type": "markdown",
      "metadata": {
        "button": false,
        "new_sheet": false,
        "run_control": {
          "read_only": false
        }
      },
      "source": [
        "China and India are both considered as outliers since their population for the decade exceeds 209,611.5.\n",
        "\n",
        "The box plot is an advanced visualizaiton tool, and there are many options and customizations that exceed the scope of this lab. Please refer to [Matplotlib documentation](http://matplotlib.org/api/pyplot_api.html?utm_medium=Exinfluencer&utm_source=Exinfluencer&utm_content=000026UJ&utm_term=10006555&utm_id=NA-SkillsNetwork-Channel-SkillsNetworkCoursesIBMDeveloperSkillsNetworkDV0101ENSkillsNetwork20297740-2021-01-01#matplotlib.pyplot.boxplot) on box plots for more information.\n"
      ]
    },
    {
      "cell_type": "markdown",
      "metadata": {
        "button": false,
        "new_sheet": false,
        "run_control": {
          "read_only": false
        }
      },
      "source": [
        "# Scatter Plots <a id=\"10\"></a>\n",
        "\n",
        "A `scatter plot` (2D) is a useful method of comparing variables against each other. `Scatter` plots look similar to `line plots` in that they both map independent and dependent variables on a 2D graph. While the data points are connected together by a line in a line plot, they are not connected in a scatter plot. The data in a scatter plot is considered to express a trend. With further analysis using tools like regression, we can mathematically calculate this relationship and use it to predict trends outside the dataset.\n",
        "\n",
        "Let's start by exploring the following:\n",
        "\n",
        "Using a `scatter plot`, let's visualize the trend of total immigrantion to Canada (all countries combined) for the years 1980 - 2013.\n"
      ]
    },
    {
      "cell_type": "markdown",
      "metadata": {
        "button": false,
        "new_sheet": false,
        "run_control": {
          "read_only": false
        }
      },
      "source": [
        "Step 1: Get the dataset. Since we are expecting to use the relationship betewen `years` and `total population`, we will convert `years` to `int` type.\n"
      ]
    },
    {
      "cell_type": "code",
      "execution_count": 34,
      "metadata": {
        "button": false,
        "collapsed": false,
        "jupyter": {
          "outputs_hidden": false
        },
        "new_sheet": false,
        "run_control": {
          "read_only": false
        },
        "trusted": true
      },
      "outputs": [
        {
          "data": {
            "text/html": [
              "<div>\n",
              "<style scoped>\n",
              "    .dataframe tbody tr th:only-of-type {\n",
              "        vertical-align: middle;\n",
              "    }\n",
              "\n",
              "    .dataframe tbody tr th {\n",
              "        vertical-align: top;\n",
              "    }\n",
              "\n",
              "    .dataframe thead th {\n",
              "        text-align: right;\n",
              "    }\n",
              "</style>\n",
              "<table border=\"1\" class=\"dataframe\">\n",
              "  <thead>\n",
              "    <tr style=\"text-align: right;\">\n",
              "      <th></th>\n",
              "      <th>year</th>\n",
              "      <th>total</th>\n",
              "    </tr>\n",
              "  </thead>\n",
              "  <tbody>\n",
              "    <tr>\n",
              "      <th>0</th>\n",
              "      <td>1980</td>\n",
              "      <td>99137</td>\n",
              "    </tr>\n",
              "    <tr>\n",
              "      <th>1</th>\n",
              "      <td>1981</td>\n",
              "      <td>110563</td>\n",
              "    </tr>\n",
              "    <tr>\n",
              "      <th>2</th>\n",
              "      <td>1982</td>\n",
              "      <td>104271</td>\n",
              "    </tr>\n",
              "    <tr>\n",
              "      <th>3</th>\n",
              "      <td>1983</td>\n",
              "      <td>75550</td>\n",
              "    </tr>\n",
              "    <tr>\n",
              "      <th>4</th>\n",
              "      <td>1984</td>\n",
              "      <td>73417</td>\n",
              "    </tr>\n",
              "  </tbody>\n",
              "</table>\n",
              "</div>"
            ],
            "text/plain": [
              "   year   total\n",
              "0  1980   99137\n",
              "1  1981  110563\n",
              "2  1982  104271\n",
              "3  1983   75550\n",
              "4  1984   73417"
            ]
          },
          "execution_count": 34,
          "metadata": {},
          "output_type": "execute_result"
        }
      ],
      "source": [
        "# we can use the sum() method to get the total population per year\n",
        "df_tot = pd.DataFrame(df_can[years].sum(axis=0))\n",
        "\n",
        "# change the years to type int (useful for regression later on)\n",
        "df_tot.index = map(int, df_tot.index)\n",
        "\n",
        "# reset the index to put in back in as a column in the df_tot dataframe\n",
        "df_tot.reset_index(inplace = True)\n",
        "\n",
        "# rename columns\n",
        "df_tot.columns = ['year', 'total']\n",
        "\n",
        "# view the final dataframe\n",
        "df_tot.head()"
      ]
    },
    {
      "cell_type": "markdown",
      "metadata": {
        "button": false,
        "new_sheet": false,
        "run_control": {
          "read_only": false
        }
      },
      "source": [
        "Step 2: Plot the data. In `Matplotlib`, we can create a `scatter` plot set by passing in `kind='scatter'` as plot argument. We will also need to pass in `x` and `y` keywords to specify the columns that go on the x- and the y-axis.\n"
      ]
    },
    {
      "cell_type": "code",
      "execution_count": 37,
      "metadata": {
        "button": false,
        "collapsed": false,
        "jupyter": {
          "outputs_hidden": false
        },
        "new_sheet": false,
        "run_control": {
          "read_only": false
        },
        "trusted": true
      },
      "outputs": [
        {
          "data": {
            "image/png": "[encoded data removed]",
            "text/plain": [
              "<Figure size 720x432 with 1 Axes>"
            ]
          },
          "metadata": {},
          "output_type": "display_data"
        }
      ],
      "source": [
        "df_tot.plot(kind='scatter', x='year', y='total', figsize=(10, 6), color='darkblue')\n",
        "\n",
        "plt.title('Total Immigration to Canada from 1980 - 2013')\n",
        "plt.xlabel('Year')\n",
        "plt.ylabel('Number of Immigrants')\n",
        "\n",
        "plt.show()"
      ]
    },
    {
      "cell_type": "markdown",
      "metadata": {
        "button": false,
        "new_sheet": false,
        "run_control": {
          "read_only": false
        }
      },
      "source": [
        "Notice how the scatter plot does not connect the data  points together. We can clearly observe an upward trend in the data: as the years go by, the total number of immigrants increases. We can mathematically analyze this upward trend using a regression line (line of best fit).\n"
      ]
    },
    {
      "cell_type": "markdown",
      "metadata": {
        "button": false,
        "new_sheet": false,
        "run_control": {
          "read_only": false
        }
      },
      "source": [
        "So let's try to plot a linear line of best fit, and use it to  predict the number of immigrants in 2015.\n",
        "\n",
        "Step 1: Get the equation of line of best fit. We will use **Numpy**'s `polyfit()` method by passing in the following:\n",
        "\n",
        "*   `x`: x-coordinates of the data.\n",
        "*   `y`: y-coordinates of the data.\n",
        "*   `deg`: Degree of fitting polynomial. 1 = linear, 2 = quadratic, and so on.\n"
      ]
    },
    {
      "cell_type": "code",
      "execution_count": 38,
      "metadata": {
        "button": false,
        "collapsed": false,
        "jupyter": {
          "outputs_hidden": false
        },
        "new_sheet": false,
        "run_control": {
          "read_only": false
        },
        "trusted": true
      },
      "outputs": [
        {
          "data": {
            "text/plain": [
              "array([ 5.56709228e+03, -1.09261952e+07])"
            ]
          },
          "execution_count": 38,
          "metadata": {},
          "output_type": "execute_result"
        }
      ],
      "source": [
        "x = df_tot['year']      # year on x-axis\n",
        "y = df_tot['total']     # total on y-axis\n",
        "fit = np.polyfit(x, y, deg=1)\n",
        "\n",
        "fit"
      ]
    },
    {
      "cell_type": "markdown",
      "metadata": {
        "button": false,
        "new_sheet": false,
        "run_control": {
          "read_only": false
        }
      },
      "source": [
        "The output is an array with the polynomial coefficients, highest powers first. Since we are plotting a linear regression `y= a * x + b`, our output has 2 elements `[5.56709228e+03, -1.09261952e+07]` with the the slope in position 0 and intercept in position 1.\n",
        "\n",
        "Step 2: Plot the regression line on the `scatter plot`.\n"
      ]
    },
    {
      "cell_type": "code",
      "execution_count": 39,
      "metadata": {
        "button": false,
        "collapsed": false,
        "jupyter": {
          "outputs_hidden": false
        },
        "new_sheet": false,
        "run_control": {
          "read_only": false
        },
        "trusted": true
      },
      "outputs": [
        {
          "data": {
            "image/png": "[encoded data removed]",
            "text/plain": [
              "<Figure size 720x432 with 1 Axes>"
            ]
          },
          "metadata": {},
          "output_type": "display_data"
        },
        {
          "data": {
            "text/plain": [
              "'No. Immigrants = 5567 * Year + -10926195'"
            ]
          },
          "execution_count": 39,
          "metadata": {},
          "output_type": "execute_result"
        }
      ],
      "source": [
        "df_tot.plot(kind='scatter', x='year', y='total', figsize=(10, 6), color='darkblue')\n",
        "\n",
        "plt.title('Total Immigration to Canada from 1980 - 2013')\n",
        "plt.xlabel('Year')\n",
        "plt.ylabel('Number of Immigrants')\n",
        "\n",
        "# plot line of best fit\n",
        "plt.plot(x, fit[0] * x + fit[1], color='red') # recall that x is the Years\n",
        "plt.annotate('y={0:.0f} x + {1:.0f}'.format(fit[0], fit[1]), xy=(2000, 150000))\n",
        "\n",
        "plt.show()\n",
        "\n",
        "# print out the line of best fit\n",
        "'No. Immigrants = {0:.0f} * Year + {1:.0f}'.format(fit[0], fit[1]) "
      ]
    },
    {
      "cell_type": "markdown",
      "metadata": {
        "button": false,
        "new_sheet": false,
        "run_control": {
          "read_only": false
        }
      },
      "source": [
        "Using the equation of line of best fit, we can estimate the number of immigrants in 2015:\n",
        "\n",
        "```python\n",
        "No. Immigrants = 5567 * Year - 10926195\n",
        "No. Immigrants = 5567 * 2015 - 10926195\n",
        "No. Immigrants = 291,310\n",
        "```\n",
        "\n",
        "When compared to the actual from Citizenship and Immigration Canada's (CIC) [2016 Annual Report](http://www.cic.gc.ca/english/resources/publications/annual-report-2016/index.asp?utm_medium=Exinfluencer&utm_source=Exinfluencer&utm_content=000026UJ&utm_term=10006555&utm_id=NA-SkillsNetwork-Channel-SkillsNetworkCoursesIBMDeveloperSkillsNetworkDV0101ENSkillsNetwork20297740-2021-01-01), we see that Canada accepted 271,845 immigrants in 2015. Our estimated value of 291,310 is within 7% of the actual number, which is pretty good considering our original data came from United Nations (and might differ slightly from CIC data).\n",
        "\n",
        "As a side note, we can observe that immigration took a dip around 1993 - 1997. Further analysis into the topic revealed that in 1993 Canada introcuded Bill C-86 which introduced revisions to the refugee determination system, mostly restrictive. Further amendments to the Immigration Regulations cancelled the sponsorship required for \"assisted relatives\" and reduced the points awarded to them, making it more difficult for family members (other than nuclear family) to immigrate to Canada. These restrictive measures had a direct impact on the immigration numbers for the next several years.\n"
      ]
    },
    {
      "cell_type": "markdown",
      "metadata": {
        "button": false,
        "new_sheet": false,
        "run_control": {
          "read_only": false
        }
      },
      "source": [
        "**Question**: Create a scatter plot of the total immigration from Denmark, Norway, and Sweden to Canada from 1980 to 2013?\n"
      ]
    },
    {
      "cell_type": "markdown",
      "metadata": {
        "button": false,
        "new_sheet": false,
        "run_control": {
          "read_only": false
        }
      },
      "source": [
        "**Step 1**: Get the data:\n",
        "\n",
        "1.  Create a dataframe the consists of the numbers associated with Denmark, Norway, and Sweden only. Name it **df_countries**.\n",
        "2.  Sum the immigration numbers across all three countries for each year and turn the result into a dataframe. Name this new dataframe **df_total**.\n",
        "3.  Reset the index in place.\n",
        "4.  Rename the columns to **year** and **total**.\n",
        "5.  Display the resulting dataframe.\n"
      ]
    },
    {
      "cell_type": "code",
      "execution_count": 54,
      "metadata": {
        "button": false,
        "collapsed": false,
        "jupyter": {
          "outputs_hidden": false
        },
        "new_sheet": false,
        "run_control": {
          "read_only": false
        },
        "scrolled": true,
        "trusted": true
      },
      "outputs": [
        {
          "data": {
            "text/html": [
              "<div>\n",
              "<style scoped>\n",
              "    .dataframe tbody tr th:only-of-type {\n",
              "        vertical-align: middle;\n",
              "    }\n",
              "\n",
              "    .dataframe tbody tr th {\n",
              "        vertical-align: top;\n",
              "    }\n",
              "\n",
              "    .dataframe thead th {\n",
              "        text-align: right;\n",
              "    }\n",
              "</style>\n",
              "<table border=\"1\" class=\"dataframe\">\n",
              "  <thead>\n",
              "    <tr style=\"text-align: right;\">\n",
              "      <th></th>\n",
              "      <th>year</th>\n",
              "      <th>total</th>\n",
              "    </tr>\n",
              "  </thead>\n",
              "  <tbody>\n",
              "    <tr>\n",
              "      <th>0</th>\n",
              "      <td>1980</td>\n",
              "      <td>669</td>\n",
              "    </tr>\n",
              "    <tr>\n",
              "      <th>1</th>\n",
              "      <td>1981</td>\n",
              "      <td>678</td>\n",
              "    </tr>\n",
              "    <tr>\n",
              "      <th>2</th>\n",
              "      <td>1982</td>\n",
              "      <td>627</td>\n",
              "    </tr>\n",
              "    <tr>\n",
              "      <th>3</th>\n",
              "      <td>1983</td>\n",
              "      <td>333</td>\n",
              "    </tr>\n",
              "    <tr>\n",
              "      <th>4</th>\n",
              "      <td>1984</td>\n",
              "      <td>252</td>\n",
              "    </tr>\n",
              "  </tbody>\n",
              "</table>\n",
              "</div>"
            ],
            "text/plain": [
              "   year  total\n",
              "0  1980    669\n",
              "1  1981    678\n",
              "2  1982    627\n",
              "3  1983    333\n",
              "4  1984    252"
            ]
          },
          "execution_count": 54,
          "metadata": {},
          "output_type": "execute_result"
        }
      ],
      "source": [
        "### type your answer here\n",
        "df_countries = df_can.loc[['Denmark','Norway','Sweden'], years].transpose()\n",
        "\n",
        "df_total = pd.DataFrame(df_countries.sum(axis=1)) \n",
        "\n",
        "df_total.reset_index(inplace=True)\n",
        "\n",
        "df_total.columns = ['year','total']\n",
        "\n",
        "df_total['year'] = df_total['year'].astype(int)\n",
        "\n",
        "df_total.head()\n",
        "\n",
        "\n"
      ]
    },
    {
      "cell_type": "markdown",
      "metadata": {
        "button": false,
        "new_sheet": false,
        "run_control": {
          "read_only": false
        }
      },
      "source": [
        "<details><summary>Click here for a sample python solution</summary>\n",
        "\n",
        "```python\n",
        "    #The correct answer is:  \n",
        "    \n",
        "    # create df_countries dataframe\n",
        "    df_countries = df_can.loc[['Denmark', 'Norway', 'Sweden'], years].transpose()\n",
        "\n",
        "    # create df_total by summing across three countries for each year\n",
        "    df_total = pd.DataFrame(df_countries.sum(axis=1))\n",
        "\n",
        "    # reset index in place\n",
        "    df_total.reset_index(inplace=True)\n",
        "\n",
        "    # rename columns\n",
        "    df_total.columns = ['year', 'total']\n",
        "\n",
        "    # change column year from string to int to create scatter plot\n",
        "    df_total['year'] = df_total['year'].astype(int)\n",
        "\n",
        "    # show resulting dataframe\n",
        "    df_total.head()\n",
        "\n",
        "\n",
        "```\n",
        "\n",
        "</details>\n"
      ]
    },
    {
      "cell_type": "markdown",
      "metadata": {
        "button": false,
        "new_sheet": false,
        "run_control": {
          "read_only": false
        }
      },
      "source": [
        "**Step 2**: Generate the scatter plot by plotting the total versus year in **df_total**.\n"
      ]
    },
    {
      "cell_type": "code",
      "execution_count": 59,
      "metadata": {
        "button": false,
        "collapsed": false,
        "jupyter": {
          "outputs_hidden": false
        },
        "new_sheet": false,
        "run_control": {
          "read_only": false
        },
        "trusted": true
      },
      "outputs": [
        {
          "data": {
            "image/png": "[encoded data removed]",
            "text/plain": [
              "<Figure size 720x432 with 1 Axes>"
            ]
          },
          "metadata": {},
          "output_type": "display_data"
        }
      ],
      "source": [
        "### type your answer here\n",
        "\n",
        "x = df_total['year']\n",
        "y = df_total['total']\n",
        "fit1 = np.polyfit(x, y, deg=1)\n",
        "fit1\n",
        "\n",
        "df_total.plot(kind='scatter', x='year', y = 'total',figsize=(10, 6), color='darkblue')\n",
        "\n",
        "plt.title('Total Immigration to Canada from Denmark, Norway and sweden in 1980 - 2013')\n",
        "plt.xlabel('Year')\n",
        "plt.ylabel('Number of Immigrants')\n",
        "\n",
        "# plot line of best fit\n",
        "plt.plot(x, fit1[0] * x + fit1[1], color='red') # recall that x is the Years\n",
        "plt.annotate('y={0:.0f} x + {1:.0f}'.format(fit[0], fit[1]), xy=(2000, 150000))\n",
        "\n",
        "plt.show()\n",
        "\n",
        "\n"
      ]
    },
    {
      "cell_type": "markdown",
      "metadata": {
        "button": false,
        "new_sheet": false,
        "run_control": {
          "read_only": false
        }
      },
      "source": [
        "<details><summary>Click here for a sample python solution</summary>\n",
        "\n",
        "```python\n",
        "    #The correct answer is:  \n",
        "    \n",
        "    # generate scatter plot\n",
        "    df_total.plot(kind='scatter', x='year', y='total', figsize=(10, 6), color='darkblue')\n",
        "\n",
        "    # add title and label to axes\n",
        "    plt.title('Immigration from Denmark, Norway, and Sweden to Canada from 1980 - 2013')\n",
        "    plt.xlabel('Year')\n",
        "    plt.ylabel('Number of Immigrants')\n",
        "\n",
        "    # show plot\n",
        "    plt.show()\n",
        "\n",
        "\n",
        "```\n",
        "\n",
        "</details>\n"
      ]
    },
    {
      "cell_type": "markdown",
      "metadata": {
        "button": false,
        "new_sheet": false,
        "run_control": {
          "read_only": false
        }
      },
      "source": [
        "# Bubble Plots <a id=\"12\"></a>\n",
        "\n",
        "A `bubble plot` is a variation of the `scatter plot` that displays three dimensions of data (x, y, z). The data points are replaced with bubbles, and the size of the bubble is determined by the third variable `z`, also known as the weight. In `maplotlib`, we can pass in an array or scalar to the parameter `s` to `plot()`, that contains the weight of each point.\n",
        "\n",
        "**Let's start by analyzing the effect of Argentina's great depression**.\n",
        "\n",
        "Argentina suffered a great depression from 1998 to 2002, which caused widespread unemployment, riots, the fall of the government, and a default on the country's foreign debt. In terms of income, over 50% of Argentines were poor, and seven out of ten Argentine children were poor at the depth of the crisis in 2002.\n",
        "\n",
        "Let's analyze the effect of this crisis, and compare Argentina's immigration to that of it's neighbour Brazil. Let's do that using a `bubble plot` of immigration from Brazil and Argentina for the years 1980 - 2013. We will set the weights for the bubble as the *normalized* value of the population for each year.\n"
      ]
    },
    {
      "cell_type": "markdown",
      "metadata": {
        "button": false,
        "new_sheet": false,
        "run_control": {
          "read_only": false
        }
      },
      "source": [
        "**Step 1**: Get the data for Brazil and Argentina. Like in the previous example, we will convert the `Years` to type int and include it in the dataframe.\n"
      ]
    },
    {
      "cell_type": "code",
      "execution_count": 60,
      "metadata": {
        "button": false,
        "collapsed": false,
        "jupyter": {
          "outputs_hidden": false
        },
        "new_sheet": false,
        "run_control": {
          "read_only": false
        },
        "scrolled": true,
        "trusted": true
      },
      "outputs": [
        {
          "data": {
            "text/html": [
              "<div>\n",
              "<style scoped>\n",
              "    .dataframe tbody tr th:only-of-type {\n",
              "        vertical-align: middle;\n",
              "    }\n",
              "\n",
              "    .dataframe tbody tr th {\n",
              "        vertical-align: top;\n",
              "    }\n",
              "\n",
              "    .dataframe thead th {\n",
              "        text-align: right;\n",
              "    }\n",
              "</style>\n",
              "<table border=\"1\" class=\"dataframe\">\n",
              "  <thead>\n",
              "    <tr style=\"text-align: right;\">\n",
              "      <th>Country</th>\n",
              "      <th>Year</th>\n",
              "      <th>Afghanistan</th>\n",
              "      <th>Albania</th>\n",
              "      <th>Algeria</th>\n",
              "      <th>American Samoa</th>\n",
              "      <th>Andorra</th>\n",
              "      <th>Angola</th>\n",
              "      <th>Antigua and Barbuda</th>\n",
              "      <th>Argentina</th>\n",
              "      <th>Armenia</th>\n",
              "      <th>...</th>\n",
              "      <th>United States of America</th>\n",
              "      <th>Uruguay</th>\n",
              "      <th>Uzbekistan</th>\n",
              "      <th>Vanuatu</th>\n",
              "      <th>Venezuela (Bolivarian Republic of)</th>\n",
              "      <th>Viet Nam</th>\n",
              "      <th>Western Sahara</th>\n",
              "      <th>Yemen</th>\n",
              "      <th>Zambia</th>\n",
              "      <th>Zimbabwe</th>\n",
              "    </tr>\n",
              "  </thead>\n",
              "  <tbody>\n",
              "    <tr>\n",
              "      <th>0</th>\n",
              "      <td>1980</td>\n",
              "      <td>16</td>\n",
              "      <td>1</td>\n",
              "      <td>80</td>\n",
              "      <td>0</td>\n",
              "      <td>0</td>\n",
              "      <td>1</td>\n",
              "      <td>0</td>\n",
              "      <td>368</td>\n",
              "      <td>0</td>\n",
              "      <td>...</td>\n",
              "      <td>9378</td>\n",
              "      <td>128</td>\n",
              "      <td>0</td>\n",
              "      <td>0</td>\n",
              "      <td>103</td>\n",
              "      <td>1191</td>\n",
              "      <td>0</td>\n",
              "      <td>1</td>\n",
              "      <td>11</td>\n",
              "      <td>72</td>\n",
              "    </tr>\n",
              "    <tr>\n",
              "      <th>1</th>\n",
              "      <td>1981</td>\n",
              "      <td>39</td>\n",
              "      <td>0</td>\n",
              "      <td>67</td>\n",
              "      <td>1</td>\n",
              "      <td>0</td>\n",
              "      <td>3</td>\n",
              "      <td>0</td>\n",
              "      <td>426</td>\n",
              "      <td>0</td>\n",
              "      <td>...</td>\n",
              "      <td>10030</td>\n",
              "      <td>132</td>\n",
              "      <td>0</td>\n",
              "      <td>0</td>\n",
              "      <td>117</td>\n",
              "      <td>1829</td>\n",
              "      <td>0</td>\n",
              "      <td>2</td>\n",
              "      <td>17</td>\n",
              "      <td>114</td>\n",
              "    </tr>\n",
              "    <tr>\n",
              "      <th>2</th>\n",
              "      <td>1982</td>\n",
              "      <td>39</td>\n",
              "      <td>0</td>\n",
              "      <td>71</td>\n",
              "      <td>0</td>\n",
              "      <td>0</td>\n",
              "      <td>6</td>\n",
              "      <td>0</td>\n",
              "      <td>626</td>\n",
              "      <td>0</td>\n",
              "      <td>...</td>\n",
              "      <td>9074</td>\n",
              "      <td>146</td>\n",
              "      <td>0</td>\n",
              "      <td>0</td>\n",
              "      <td>174</td>\n",
              "      <td>2162</td>\n",
              "      <td>0</td>\n",
              "      <td>1</td>\n",
              "      <td>11</td>\n",
              "      <td>102</td>\n",
              "    </tr>\n",
              "    <tr>\n",
              "      <th>3</th>\n",
              "      <td>1983</td>\n",
              "      <td>47</td>\n",
              "      <td>0</td>\n",
              "      <td>69</td>\n",
              "      <td>0</td>\n",
              "      <td>0</td>\n",
              "      <td>6</td>\n",
              "      <td>0</td>\n",
              "      <td>241</td>\n",
              "      <td>0</td>\n",
              "      <td>...</td>\n",
              "      <td>7100</td>\n",
              "      <td>105</td>\n",
              "      <td>0</td>\n",
              "      <td>0</td>\n",
              "      <td>124</td>\n",
              "      <td>3404</td>\n",
              "      <td>0</td>\n",
              "      <td>6</td>\n",
              "      <td>7</td>\n",
              "      <td>44</td>\n",
              "    </tr>\n",
              "    <tr>\n",
              "      <th>4</th>\n",
              "      <td>1984</td>\n",
              "      <td>71</td>\n",
              "      <td>0</td>\n",
              "      <td>63</td>\n",
              "      <td>0</td>\n",
              "      <td>0</td>\n",
              "      <td>4</td>\n",
              "      <td>42</td>\n",
              "      <td>237</td>\n",
              "      <td>0</td>\n",
              "      <td>...</td>\n",
              "      <td>6661</td>\n",
              "      <td>90</td>\n",
              "      <td>0</td>\n",
              "      <td>0</td>\n",
              "      <td>142</td>\n",
              "      <td>7583</td>\n",
              "      <td>0</td>\n",
              "      <td>0</td>\n",
              "      <td>16</td>\n",
              "      <td>32</td>\n",
              "    </tr>\n",
              "  </tbody>\n",
              "</table>\n",
              "<p>5 rows × 196 columns</p>\n",
              "</div>"
            ],
            "text/plain": [
              "Country  Year  Afghanistan  Albania  Algeria  American Samoa  Andorra  Angola  \\\n",
              "0        1980           16        1       80               0        0       1   \n",
              "1        1981           39        0       67               1        0       3   \n",
              "2        1982           39        0       71               0        0       6   \n",
              "3        1983           47        0       69               0        0       6   \n",
              "4        1984           71        0       63               0        0       4   \n",
              "\n",
              "Country  Antigua and Barbuda  Argentina  Armenia  ...  \\\n",
              "0                          0        368        0  ...   \n",
              "1                          0        426        0  ...   \n",
              "2                          0        626        0  ...   \n",
              "3                          0        241        0  ...   \n",
              "4                         42        237        0  ...   \n",
              "\n",
              "Country  United States of America  Uruguay  Uzbekistan  Vanuatu  \\\n",
              "0                            9378      128           0        0   \n",
              "1                           10030      132           0        0   \n",
              "2                            9074      146           0        0   \n",
              "3                            7100      105           0        0   \n",
              "4                            6661       90           0        0   \n",
              "\n",
              "Country  Venezuela (Bolivarian Republic of)  Viet Nam  Western Sahara  Yemen  \\\n",
              "0                                       103      1191               0      1   \n",
              "1                                       117      1829               0      2   \n",
              "2                                       174      2162               0      1   \n",
              "3                                       124      3404               0      6   \n",
              "4                                       142      7583               0      0   \n",
              "\n",
              "Country  Zambia  Zimbabwe  \n",
              "0            11        72  \n",
              "1            17       114  \n",
              "2            11       102  \n",
              "3             7        44  \n",
              "4            16        32  \n",
              "\n",
              "[5 rows x 196 columns]"
            ]
          },
          "execution_count": 60,
          "metadata": {},
          "output_type": "execute_result"
        }
      ],
      "source": [
        "# transposed dataframe\n",
        "df_can_t = df_can[years].transpose()\n",
        "\n",
        "# cast the Years (the index) to type int\n",
        "df_can_t.index = map(int, df_can_t.index)\n",
        "\n",
        "# let's label the index. This will automatically be the column name when we reset the index\n",
        "df_can_t.index.name = 'Year'\n",
        "\n",
        "# reset index to bring the Year in as a column\n",
        "df_can_t.reset_index(inplace=True)\n",
        "\n",
        "# view the changes\n",
        "df_can_t.head()"
      ]
    },
    {
      "cell_type": "markdown",
      "metadata": {
        "button": false,
        "new_sheet": false,
        "run_control": {
          "read_only": false
        }
      },
      "source": [
        "**Step 2**: Create the normalized weights.\n",
        "\n",
        "There are several methods of normalizations in statistics, each with its own use. In this case, we will use [feature scaling](https://en.wikipedia.org/wiki/Feature_scaling?utm_medium=Exinfluencer&utm_source=Exinfluencer&utm_content=000026UJ&utm_term=10006555&utm_id=NA-SkillsNetwork-Channel-SkillsNetworkCoursesIBMDeveloperSkillsNetworkDV0101ENSkillsNetwork20297740-2021-01-01) to bring all values into the range \\[0, 1]. The general formula is:\n",
        "\n",
        "<img src=\"https://cf-courses-data.s3.us.cloud-object-storage.appdomain.cloud/IBMDeveloperSkillsNetwork-DV0101EN-SkillsNetwork/labs/Module%203/images/Mod3Fig3FeatureScaling.png\" align=\"center\">\n",
        "\n",
        "where $X$ is the original value, $X'$ is the corresponding normalized value. The formula sets the max value in the dataset to 1, and sets the min value to 0. The rest of the data points are scaled to a value between 0-1 accordingly.\n"
      ]
    },
    {
      "cell_type": "code",
      "execution_count": 61,
      "metadata": {
        "button": false,
        "collapsed": false,
        "jupyter": {
          "outputs_hidden": false
        },
        "new_sheet": false,
        "run_control": {
          "read_only": false
        },
        "scrolled": true,
        "trusted": true
      },
      "outputs": [],
      "source": [
        "# normalize Brazil data\n",
        "norm_brazil = (df_can_t['Brazil'] - df_can_t['Brazil'].min()) / (df_can_t['Brazil'].max() - df_can_t['Brazil'].min())\n",
        "\n",
        "# normalize Argentina data\n",
        "norm_argentina = (df_can_t['Argentina'] - df_can_t['Argentina'].min()) / (df_can_t['Argentina'].max() - df_can_t['Argentina'].min())"
      ]
    },
    {
      "cell_type": "markdown",
      "metadata": {
        "button": false,
        "new_sheet": false,
        "run_control": {
          "read_only": false
        }
      },
      "source": [
        "**Step 3**: Plot the data.\n",
        "\n",
        "*   To plot two different scatter plots in one plot, we can include the axes one plot into the other by passing it via the `ax` parameter.\n",
        "*   We will also pass in the weights using the `s` parameter. Given that the normalized weights are between 0-1, they won't be visible on the plot. Therefore, we will:\n",
        "    *   multiply weights by 2000 to scale it up on the graph, and,\n",
        "    *   add 10 to compensate for the min value (which has a 0 weight and therefore scale with $\\times 2000$).\n"
      ]
    },
    {
      "cell_type": "code",
      "execution_count": 62,
      "metadata": {
        "button": false,
        "collapsed": false,
        "jupyter": {
          "outputs_hidden": false
        },
        "new_sheet": false,
        "run_control": {
          "read_only": false
        },
        "trusted": true
      },
      "outputs": [
        {
          "data": {
            "text/plain": [
              "<matplotlib.legend.Legend at 0x292ccbe3f10>"
            ]
          },
          "execution_count": 62,
          "metadata": {},
          "output_type": "execute_result"
        },
        {
          "data": {
            "image/png": "[encoded data removed]",
            "text/plain": [
              "<Figure size 1008x576 with 1 Axes>"
            ]
          },
          "metadata": {},
          "output_type": "display_data"
        }
      ],
      "source": [
        "# Brazil\n",
        "ax0 = df_can_t.plot(kind='scatter',\n",
        "                    x='Year',\n",
        "                    y='Brazil',\n",
        "                    figsize=(14, 8),\n",
        "                    alpha=0.5,  # transparency\n",
        "                    color='green',\n",
        "                    s=norm_brazil * 2000 + 10,  # pass in weights \n",
        "                    xlim=(1975, 2015)\n",
        "                    )\n",
        "\n",
        "# Argentina\n",
        "ax1 = df_can_t.plot(kind='scatter',\n",
        "                    x='Year',\n",
        "                    y='Argentina',\n",
        "                    alpha=0.5,\n",
        "                    color=\"blue\",\n",
        "                    s=norm_argentina * 2000 + 10,\n",
        "                    ax=ax0\n",
        "                    )\n",
        "\n",
        "ax0.set_ylabel('Number of Immigrants')\n",
        "ax0.set_title('Immigration from Brazil and Argentina from 1980 to 2013')\n",
        "ax0.legend(['Brazil', 'Argentina'], loc='upper left', fontsize='x-large')"
      ]
    },
    {
      "cell_type": "markdown",
      "metadata": {
        "button": false,
        "new_sheet": false,
        "run_control": {
          "read_only": false
        }
      },
      "source": [
        "The size of the bubble corresponds to the magnitude of immigrating population for that year, compared to the 1980 - 2013 data. The larger the bubble is, the more immigrants are in that year.\n",
        "\n",
        "From the plot above, we can see a corresponding increase in immigration from Argentina during the 1998 - 2002 great depression. We can also observe a similar spike around 1985 to 1993. In fact, Argentina had suffered a great depression from 1974 to 1990, just before the onset of 1998 - 2002 great depression.\n",
        "\n",
        "On a similar note, Brazil suffered the *Samba Effect* where the Brazilian real (currency) dropped nearly 35% in 1999. There was a fear of a South American financial crisis as many South American countries were heavily dependent on industrial exports from Brazil. The Brazilian government subsequently adopted an austerity program, and the economy slowly recovered over the years, culminating in a surge in 2010. The immigration data reflect these events.\n"
      ]
    },
    {
      "cell_type": "markdown",
      "metadata": {
        "button": false,
        "new_sheet": false,
        "run_control": {
          "read_only": false
        }
      },
      "source": [
        "**Question**: Previously in this lab, we created box plots to compare immigration from China and India to Canada. Create bubble plots of immigration from China and India to visualize any differences with time from 1980 to 2013. You can use **df_can_t** that we defined and used in the previous example.\n"
      ]
    },
    {
      "cell_type": "markdown",
      "metadata": {
        "button": false,
        "new_sheet": false,
        "run_control": {
          "read_only": false
        }
      },
      "source": [
        "Step 1: Normalize the data pertaining to China and India.\n"
      ]
    },
    {
      "cell_type": "code",
      "execution_count": 63,
      "metadata": {
        "button": false,
        "new_sheet": false,
        "run_control": {
          "read_only": false
        },
        "trusted": true
      },
      "outputs": [],
      "source": [
        "### type your answer here\n",
        "\n",
        "# normalized Chinese data\n",
        "norm_china = (df_can_t['China'] - df_can_t['China'].min()) / (df_can_t['China'].max() - df_can_t['China'].min())\n",
        "# normalized Indian data\n",
        "norm_india = (df_can_t['India'] - df_can_t['India'].min()) / (df_can_t['India'].max() - df_can_t['India'].min())\n",
        "\n"
      ]
    },
    {
      "cell_type": "markdown",
      "metadata": {
        "button": false,
        "new_sheet": false,
        "run_control": {
          "read_only": false
        }
      },
      "source": [
        "<details><summary>Click here for a sample python solution</summary>\n",
        "\n",
        "```python\n",
        "    #The correct answer is:  \n",
        "    \n",
        "    # normalized Chinese data\n",
        "    norm_china = (df_can_t['China'] - df_can_t['China'].min()) / (df_can_t['China'].max() - df_can_t['China'].min())\n",
        "    # normalized Indian data\n",
        "    norm_india = (df_can_t['India'] - df_can_t['India'].min()) / (df_can_t['India'].max() - df_can_t['India'].min())\n",
        "\n",
        "\n",
        "```\n",
        "\n",
        "</details>\n"
      ]
    },
    {
      "cell_type": "markdown",
      "metadata": {
        "button": false,
        "new_sheet": false,
        "run_control": {
          "read_only": false
        }
      },
      "source": [
        "Step 2: Generate the bubble plots.\n"
      ]
    },
    {
      "cell_type": "code",
      "execution_count": 64,
      "metadata": {
        "button": false,
        "collapsed": false,
        "jupyter": {
          "outputs_hidden": false
        },
        "new_sheet": false,
        "run_control": {
          "read_only": false
        },
        "trusted": true
      },
      "outputs": [
        {
          "data": {
            "text/plain": [
              "<matplotlib.legend.Legend at 0x292ccb3c790>"
            ]
          },
          "execution_count": 64,
          "metadata": {},
          "output_type": "execute_result"
        },
        {
          "data": {
            "image/png": "[encoded data removed]",
            "text/plain": [
              "<Figure size 1008x576 with 1 Axes>"
            ]
          },
          "metadata": {},
          "output_type": "display_data"
        }
      ],
      "source": [
        "### type your answer here\n",
        "\n",
        "ax0 = df_can_t.plot(kind='scatter',\n",
        "                        x='Year',\n",
        "                        y='China',\n",
        "                        figsize=(14, 8),\n",
        "                        alpha=0.5,                  # transparency\n",
        "                        color='green',\n",
        "                        s=norm_china * 2000 + 10,  # pass in weights \n",
        "                        xlim=(1975, 2015)\n",
        "                       )\n",
        "\n",
        "    # India\n",
        "ax1 = df_can_t.plot(kind='scatter',\n",
        "                    x='Year',\n",
        "                    y='India',\n",
        "                    alpha=0.5,\n",
        "                    color=\"blue\",\n",
        "                    s=norm_india * 2000 + 10,\n",
        "                    ax = ax0\n",
        "                    )\n",
        "\n",
        "ax0.set_ylabel('Number of Immigrants')\n",
        "ax0.set_title('Immigration from China and India from 1980 - 2013')\n",
        "ax0.legend(['China', 'India'], loc='upper left', fontsize='x-large')\n",
        "\n"
      ]
    },
    {
      "cell_type": "markdown",
      "metadata": {
        "button": false,
        "new_sheet": false,
        "run_control": {
          "read_only": false
        }
      },
      "source": [
        "<details><summary>Click here for a sample python solution</summary>\n",
        "\n",
        "```python\n",
        "    #The correct answer is:  \n",
        "    \n",
        "    # China\n",
        "    ax0 = df_can_t.plot(kind='scatter',\n",
        "                        x='Year',\n",
        "                        y='China',\n",
        "                        figsize=(14, 8),\n",
        "                        alpha=0.5,                  # transparency\n",
        "                        color='green',\n",
        "                        s=norm_china * 2000 + 10,  # pass in weights \n",
        "                        xlim=(1975, 2015)\n",
        "                       )\n",
        "\n",
        "    # India\n",
        "    ax1 = df_can_t.plot(kind='scatter',\n",
        "                        x='Year',\n",
        "                        y='India',\n",
        "                        alpha=0.5,\n",
        "                        color=\"blue\",\n",
        "                        s=norm_india * 2000 + 10,\n",
        "                        ax = ax0\n",
        "                       )\n",
        "\n",
        "    ax0.set_ylabel('Number of Immigrants')\n",
        "    ax0.set_title('Immigration from China and India from 1980 - 2013')\n",
        "    ax0.legend(['China', 'India'], loc='upper left', fontsize='x-large')\n",
        "\n",
        "\n",
        "```\n",
        "\n",
        "</details>\n"
      ]
    },
    {
      "cell_type": "markdown",
      "metadata": {
        "button": false,
        "new_sheet": false,
        "run_control": {
          "read_only": false
        }
      },
      "source": [
        "### Thank you for completing this lab!\n",
        "\n",
        "## Author\n",
        "\n",
        "<a href=\"https://www.linkedin.com/in/aklson/?utm_medium=Exinfluencer&utm_source=Exinfluencer&utm_content=000026UJ&utm_term=10006555&utm_id=NA-SkillsNetwork-Channel-SkillsNetworkCoursesIBMDeveloperSkillsNetworkDV0101ENSkillsNetwork20297740-2021-01-01\" target=\"_blank\">Alex Aklson</a>\n",
        "\n",
        "### Other Contributors\n",
        "\n",
        "[Jay Rajasekharan](https://www.linkedin.com/in/jayrajasekharan?utm_medium=Exinfluencer&utm_source=Exinfluencer&utm_content=000026UJ&utm_term=10006555&utm_id=NA-SkillsNetwork-Channel-SkillsNetworkCoursesIBMDeveloperSkillsNetworkDV0101ENSkillsNetwork20297740-2021-01-01),\n",
        "[Ehsan M. Kermani](https://www.linkedin.com/in/ehsanmkermani?utm_medium=Exinfluencer&utm_source=Exinfluencer&utm_content=000026UJ&utm_term=10006555&utm_id=NA-SkillsNetwork-Channel-SkillsNetworkCoursesIBMDeveloperSkillsNetworkDV0101ENSkillsNetwork20297740-2021-01-01),\n",
        "[Slobodan Markovic](https://www.linkedin.com/in/slobodan-markovic?utm_medium=Exinfluencer&utm_source=Exinfluencer&utm_content=000026UJ&utm_term=10006555&utm_id=NA-SkillsNetwork-Channel-SkillsNetworkCoursesIBMDeveloperSkillsNetworkDV0101ENSkillsNetwork20297740-2021-01-01),\n",
        "[Weiqing Wang](https://www.linkedin.com/in/weiqing-wang-641640133?utm_medium=Exinfluencer&utm_source=Exinfluencer&utm_content=000026UJ&utm_term=10006555&utm_id=NA-SkillsNetwork-Channel-SkillsNetworkCoursesIBMDeveloperSkillsNetworkDV0101ENSkillsNetwork20297740-2021-01-01).\n",
        "\n",
        "## Change Log\n",
        "\n",
        "| Date (YYYY-MM-DD) | Version | Changed By   | Change Description                 |\n",
        "| ----------------- | ------- | ------------ | ---------------------------------- |\n",
        "| 2021-05-29        | 2.6     | Weiqing Wang | Fixed typos and code smells.       |\n",
        "| 2021-01-20        | 2.5     | LakshmiHolla | Changed TOC markdown section       |\n",
        "| 2021-01-05        | 2.4     | LakshmiHolla | Changed markdown for outliers      |\n",
        "| 2020-11-12        | 2.3     | LakshmiHolla | Added example code for outliers    |\n",
        "| 2020-11-03        | 2.2     | LakshmiHolla | Changed URL of excel file          |\n",
        "| 2020-09-29        | 2.1     | LakshmiHolla | Made fix to a boxplot label        |\n",
        "| 2020-08-27        | 2.0     | Lavanya      | Moved lab to course repo in GitLab |\n",
        "\n",
        "## <h3 align=\"center\"> © IBM Corporation 2020. All rights reserved. <h3/>\n"
      ]
    }
  ],
  "metadata": {
    "kernelspec": {
      "display_name": "Python 3.9.6 ('data_analytics')",
      "language": "python",
      "name": "python3"
    },
    "language_info": {
      "codemirror_mode": {
        "name": "ipython",
        "version": 3
      },
      "file_extension": ".py",
      "mimetype": "text/x-python",
      "name": "python",
      "nbconvert_exporter": "python",
      "pygments_lexer": "ipython3",
      "version": "3.9.6"
    },
    "vscode": {
      "interpreter": {
        "hash": "e4c92a9cd3004e88d3e3d5d45bc90e68b62f384739d49d7da572bfa8407a2d1c"
      }
    },
    "widgets": {
      "state": {},
      "version": "1.1.2"
    }
  },
  "nbformat": 4,
  "nbformat_minor": 4
}
